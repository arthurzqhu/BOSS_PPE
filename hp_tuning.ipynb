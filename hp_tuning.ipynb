{
 "cells": [
  {
   "cell_type": "markdown",
   "metadata": {},
   "source": [
    "# setup"
   ]
  },
  {
   "cell_type": "code",
   "execution_count": 1,
   "metadata": {
    "editable": true,
    "slideshow": {
     "slide_type": ""
    },
    "tags": []
   },
   "outputs": [
    {
     "name": "stderr",
     "output_type": "stream",
     "text": [
      "2025-05-07 06:58:21.227359: E external/local_xla/xla/stream_executor/cuda/cuda_fft.cc:467] Unable to register cuFFT factory: Attempting to register factory for plugin cuFFT when one has already been registered\n",
      "WARNING: All log messages before absl::InitializeLog() is called are written to STDERR\n",
      "E0000 00:00:1746601101.244702  661525 cuda_dnn.cc:8579] Unable to register cuDNN factory: Attempting to register factory for plugin cuDNN when one has already been registered\n",
      "E0000 00:00:1746601101.248981  661525 cuda_blas.cc:1407] Unable to register cuBLAS factory: Attempting to register factory for plugin cuBLAS when one has already been registered\n",
      "W0000 00:00:1746601101.261149  661525 computation_placer.cc:177] computation placer already registered. Please check linkage and avoid linking the same target more than once.\n",
      "W0000 00:00:1746601101.261165  661525 computation_placer.cc:177] computation placer already registered. Please check linkage and avoid linking the same target more than once.\n",
      "W0000 00:00:1746601101.261167  661525 computation_placer.cc:177] computation placer already registered. Please check linkage and avoid linking the same target more than once.\n",
      "W0000 00:00:1746601101.261169  661525 computation_placer.cc:177] computation placer already registered. Please check linkage and avoid linking the same target more than once.\n",
      "2025-05-07 06:58:21.266771: I tensorflow/core/platform/cpu_feature_guard.cc:210] This TensorFlow binary is optimized to use available CPU instructions in performance-critical operations.\n",
      "To enable the following instructions: AVX2 FMA, in other operations, rebuild TensorFlow with the appropriate compiler flags.\n",
      "2025-05-07 06:58:38.565024: E external/local_xla/xla/stream_executor/cuda/cuda_platform.cc:51] failed call to cuInit: INTERNAL: CUDA error: Failed call to cuInit: CUDA_ERROR_NO_DEVICE: no CUDA-capable device is detected\n"
     ]
    }
   ],
   "source": [
    "import tensorflow as tf\n",
    "from tensorflow import keras\n",
    "import keras_tuner as kt\n",
    "import matplotlib.pyplot as plt\n",
    "import matplotlib.gridspec as gridspec\n",
    "import tuning_fun as tu\n",
    "import emulator_fun as ef\n",
    "import numpy as np\n",
    "from tqdm.keras import TqdmCallback\n",
    "import pandas as pd\n",
    "import time\n",
    "import netCDF4 as nc\n",
    "\n",
    "gpus = tf.config.list_physical_devices('GPU')\n",
    "if gpus:\n",
    "    try:\n",
    "        for gpu in gpus:\n",
    "            tf.config.experimental.set_memory_growth(gpu, True)\n",
    "    except RuntimeError as e:\n",
    "        print(e)\n",
    "\n",
    "# if gpus:\n",
    "#     try:\n",
    "#         tf.config.experimental.set_virtual_device_configuration(\n",
    "#             gpus[0],\n",
    "#             [tf.config.experimental.VirtualDeviceConfiguration(memory_limit=10240)]  # in MB\n",
    "#         )\n",
    "#     except RuntimeError as e:\n",
    "#         print(e)"
   ]
  },
  {
   "cell_type": "markdown",
   "metadata": {},
   "source": [
    "# HP tuning"
   ]
  },
  {
   "cell_type": "markdown",
   "metadata": {},
   "source": [
    "## pre-processing"
   ]
  },
  {
   "cell_type": "code",
   "execution_count": 2,
   "metadata": {},
   "outputs": [],
   "source": [
    "case_name = 'rainshaft'\n",
    "base_path = '/pscratch/sd/a/arthurhu/BOSS_PPE/summary_ncs/'\n",
    "filename = case_name + '.nc'\n",
    "\n",
    "param_all_idx = np.arange(40)\n",
    "# REVIEW: check every time if this is true ... not sure how to implement this programatically\n",
    "# param_interest_idx = np.arange(16,28)\n",
    "param_interest_idx = np.arange(28,40)\n",
    "# param_interest_idx = np.arange(0,28)\n",
    "# param_interest_idx = np.arange(12)\n",
    "# param_interest_idx = np.concatenate((np.arange(0,8), np.arange(16,28)))\n",
    "param_not_int_idx = [i for i in param_all_idx if i not in param_interest_idx]\n",
    "\n",
    "param_train = ef.get_params(base_path, filename, param_interest_idx)"
   ]
  },
  {
   "cell_type": "code",
   "execution_count": 3,
   "metadata": {},
   "outputs": [],
   "source": [
    "nppe, npar = param_train['vals'].shape"
   ]
  },
  {
   "cell_type": "code",
   "execution_count": 4,
   "metadata": {},
   "outputs": [],
   "source": [
    "dataset = nc.Dataset(base_path + filename, mode='r')"
   ]
  },
  {
   "cell_type": "code",
   "execution_count": 5,
   "metadata": {},
   "outputs": [],
   "source": [
    "eff0s = getattr(dataset, 'thresholds_eff0')\n",
    "var_constraints = getattr(dataset, 'var_constraints')\n",
    "ppe_var_names = ['boss_' + i for i in var_constraints]\n",
    "ppe_raw_vals = [dataset.variables[i][:] for i in ppe_var_names]\n",
    "tgt_var_names = ['bin_' + i for i in var_constraints]\n",
    "tgt_raw_vals = [dataset.variables[i][:] for i in tgt_var_names]"
   ]
  },
  {
   "cell_type": "code",
   "execution_count": 6,
   "metadata": {},
   "outputs": [],
   "source": [
    "nobs = int(sum([ppe_raw_vals[i].size for i in range(len(var_constraints))])/nppe)"
   ]
  },
  {
   "cell_type": "code",
   "execution_count": 7,
   "metadata": {},
   "outputs": [],
   "source": [
    "ppe_var_presence = ppe_asinh = ppe_all = np.empty((nppe,0), dtype=np.float32)\n",
    "ncases = tgt_raw_vals[0].shape[0]\n",
    "tgt_var_presence = tgt_asinh = tgt_all = np.empty((ncases,0), dtype=np.float32)\n",
    "\n",
    "for idx, eff0 in enumerate(eff0s):\n",
    "    if ppe_raw_vals[idx].ndim >= 2:\n",
    "        ppe_raw_val_reshaped = np.reshape(ppe_raw_vals[idx], (nppe, np.prod(ppe_raw_vals[idx].shape[1:])))\n",
    "        tgt_raw_val_reshaped = np.reshape(tgt_raw_vals[idx], (ncases, np.prod(tgt_raw_vals[idx].shape[1:])))\n",
    "    else:\n",
    "        ppe_raw_val_reshaped = ppe_raw_vals[idx].reshape(-1, 1)\n",
    "        tgt_raw_val_reshaped = tgt_raw_vals[idx].reshape(-1, 1)\n",
    "    ppe_var_presence = np.concatenate((ppe_var_presence, ppe_raw_val_reshaped > eff0s[idx]/100), axis=1)\n",
    "    ppe_asinh_reshaped = ef.smooth_linlog(ppe_raw_val_reshaped, eff0)\n",
    "    ppe_asinh = np.concatenate((ppe_asinh, ppe_asinh_reshaped), axis=1)\n",
    "    tgt_var_presence = np.concatenate((tgt_var_presence, tgt_raw_val_reshaped > eff0s[idx]/100), axis=1)\n",
    "    tgt_asinh_reshaped = ef.smooth_linlog(tgt_raw_val_reshaped, eff0)\n",
    "    tgt_asinh = np.concatenate((tgt_asinh, tgt_asinh_reshaped), axis=1)\n"
   ]
  },
  {
   "cell_type": "code",
   "execution_count": 8,
   "metadata": {},
   "outputs": [],
   "source": [
    "from sklearn import preprocessing\n",
    "import sklearn.model_selection as mod_sec\n",
    "\n",
    "minmaxscale = preprocessing.MinMaxScaler().fit(param_train['vals'])\n",
    "x_all = minmaxscale.transform(param_train['vals'])\n",
    "\n",
    "standscale = preprocessing.StandardScaler().fit(ppe_asinh)\n",
    "ppe_all = standscale.transform(ppe_asinh)\n",
    "tgt_all = standscale.transform(tgt_asinh)"
   ]
  },
  {
   "cell_type": "code",
   "execution_count": 9,
   "metadata": {},
   "outputs": [],
   "source": [
    "x_train, x_val, y_train_wpresence, y_val_wpresence = mod_sec.train_test_split(x_all, ppe_var_presence, test_size=0.2, random_state=1)\n",
    "_, _, y_train, y_val = mod_sec.train_test_split(x_all, ppe_all, test_size=0.2, random_state=1)\n",
    "\n",
    "y_train = np.nan_to_num(y_train, nan=-1001)\n",
    "y_val = np.nan_to_num(y_val, nan=-1001)"
   ]
  },
  {
   "cell_type": "code",
   "execution_count": 10,
   "metadata": {},
   "outputs": [
    {
     "data": {
      "text/plain": [
       "(array([4.000e+00, 0.000e+00, 1.000e+00, 0.000e+00, 0.000e+00, 0.000e+00,\n",
       "        0.000e+00, 0.000e+00, 1.000e+00, 0.000e+00, 0.000e+00, 0.000e+00,\n",
       "        0.000e+00, 0.000e+00, 1.000e+00, 0.000e+00, 0.000e+00, 0.000e+00,\n",
       "        0.000e+00, 1.000e+00, 0.000e+00, 0.000e+00, 3.240e+02, 2.472e+03,\n",
       "        3.000e+02, 1.870e+02, 1.210e+02, 9.300e+01, 8.200e+01, 6.900e+01,\n",
       "        8.500e+01, 1.860e+03, 9.700e+01, 1.020e+02, 1.230e+02, 1.500e+02,\n",
       "        1.610e+02, 1.820e+02, 1.780e+02, 2.250e+02, 2.600e+02, 2.190e+02,\n",
       "        1.880e+02, 2.120e+02, 2.660e+02, 2.250e+02, 2.270e+02, 2.760e+02,\n",
       "        3.110e+02, 3.150e+02, 3.570e+02, 3.180e+02, 3.780e+02, 5.200e+02,\n",
       "        4.760e+02, 4.400e+02, 3.330e+02, 3.480e+02, 3.540e+02, 3.340e+02,\n",
       "        3.320e+02, 3.550e+02, 3.280e+02, 3.010e+02, 3.520e+02, 3.210e+02,\n",
       "        3.170e+02, 2.580e+02, 2.510e+02, 2.440e+02, 2.480e+02, 2.730e+02,\n",
       "        2.610e+02, 2.210e+02, 2.260e+02, 2.070e+02, 2.210e+02, 2.280e+02,\n",
       "        2.320e+02, 2.570e+02, 2.320e+02, 2.790e+02, 3.450e+02, 3.850e+02,\n",
       "        4.450e+02, 5.460e+02, 5.410e+02, 4.800e+02, 3.580e+02, 1.870e+02,\n",
       "        9.300e+01, 5.000e+01, 3.900e+01, 2.900e+01, 3.000e+01, 2.800e+01,\n",
       "        1.500e+01, 1.700e+01, 2.000e+00, 5.000e+00]),\n",
       " array([-2.13238478, -2.0637588 , -1.99513283, -1.92650686, -1.85788089,\n",
       "        -1.78925491, -1.72062894, -1.65200297, -1.583377  , -1.51475103,\n",
       "        -1.44612505, -1.37749908, -1.30887311, -1.24024714, -1.17162117,\n",
       "        -1.10299519, -1.03436922, -0.96574325, -0.89711728, -0.8284913 ,\n",
       "        -0.75986533, -0.69123936, -0.62261339, -0.55398742, -0.48536144,\n",
       "        -0.41673547, -0.3481095 , -0.27948353, -0.21085756, -0.14223158,\n",
       "        -0.07360561, -0.00497964,  0.06364633,  0.1322723 ,  0.20089828,\n",
       "         0.26952425,  0.33815022,  0.40677619,  0.47540217,  0.54402814,\n",
       "         0.61265411,  0.68128008,  0.74990605,  0.81853203,  0.887158  ,\n",
       "         0.95578397,  1.02440994,  1.09303591,  1.16166189,  1.23028786,\n",
       "         1.29891383,  1.3675398 ,  1.43616578,  1.50479175,  1.57341772,\n",
       "         1.64204369,  1.71066966,  1.77929564,  1.84792161,  1.91654758,\n",
       "         1.98517355,  2.05379952,  2.1224255 ,  2.19105147,  2.25967744,\n",
       "         2.32830341,  2.39692938,  2.46555536,  2.53418133,  2.6028073 ,\n",
       "         2.67143327,  2.74005925,  2.80868522,  2.87731119,  2.94593716,\n",
       "         3.01456313,  3.08318911,  3.15181508,  3.22044105,  3.28906702,\n",
       "         3.35769299,  3.42631897,  3.49494494,  3.56357091,  3.63219688,\n",
       "         3.70082286,  3.76944883,  3.8380748 ,  3.90670077,  3.97532674,\n",
       "         4.04395272,  4.11257869,  4.18120466,  4.24983063,  4.3184566 ,\n",
       "         4.38708258,  4.45570855,  4.52433452,  4.59296049,  4.66158646,\n",
       "         4.73021244]),\n",
       " <BarContainer object of 100 artists>)"
      ]
     },
     "execution_count": 10,
     "metadata": {},
     "output_type": "execute_result"
    },
    {
     "data": {
      "image/png": "[encoded data removed]",
      "text/plain": [
       "<Figure size 640x480 with 1 Axes>"
      ]
     },
     "metadata": {},
     "output_type": "display_data"
    },
    {
     "data": {
      "image/png": "[encoded data removed]",
      "text/plain": [
       "<Figure size 640x480 with 1 Axes>"
      ]
     },
     "metadata": {},
     "output_type": "display_data"
    }
   ],
   "source": [
    "# np.sum(ppe_sim_train['vals'] > y_thresholds)\n",
    "# test = np.log10(tgt_sim['vals'][0,7204:10804])\n",
    "# test_finite = test[np.isfinite(test)]\n",
    "a = 0\n",
    "# ytrue = tgt_sim['vals'][:,a+6:a+3606]\n",
    "# ytrue[~np.isfinite(ytrue)] = np.nan\n",
    "# plt.hist(ytrue.flatten())\n",
    "# plt.figure()\n",
    "# plt.hist(y_all[:,5:65].flatten(), bins=100)\n",
    "# plt.figure()\n",
    "# plt.hist(tgt_all[:,5:65].flatten(), bins=100)\n",
    "\n",
    "plt.hist(ppe_all[:,a+4:a+3604].flatten(), bins=100)\n",
    "plt.figure()\n",
    "plt.hist(tgt_all[:,a+4:a+3604].flatten(), bins=100)"
   ]
  },
  {
   "cell_type": "code",
   "execution_count": 11,
   "metadata": {},
   "outputs": [
    {
     "data": {
      "text/plain": [
       "np.float64(-0.30213644517909577)"
      ]
     },
     "execution_count": 11,
     "metadata": {},
     "output_type": "execute_result"
    }
   ],
   "source": [
    "np.mean(tgt_all[0,a+4:a+3604])"
   ]
  },
  {
   "cell_type": "markdown",
   "metadata": {},
   "source": [
    "## multi-output model"
   ]
  },
  {
   "cell_type": "code",
   "execution_count": null,
   "metadata": {},
   "outputs": [
    {
     "name": "stdout",
     "output_type": "stream",
     "text": [
      "Trial 29 Complete [00h 05m 26s]\n",
      "val_loss: 0.41260620951652527\n",
      "\n",
      "Best val_loss So Far: 0.3494957685470581\n",
      "Total elapsed time: 01h 49m 25s\n",
      "\n",
      "Search: Running Trial #30\n",
      "\n",
      "Value             |Best Value So Far |Hyperparameter\n",
      "4                 |5                 |num_shared_layers\n",
      "96                |192               |units_0\n",
      "sgd               |adam              |optimizer\n",
      "1.638e-05         |0.0014865         |adam_lr\n",
      "224               |224               |units_1\n",
      "96                |256               |units_2\n",
      "32                |256               |units_3\n",
      "0.0006145         |6.4312e-05        |rmsprop_lr\n",
      "96                |192               |units_4\n",
      "2.3274e-06        |4.4645e-05        |sgd_lr\n",
      "0.2               |0.4               |sgd_momentum\n",
      "\n",
      "Epoch 1/50\n",
      "\u001b[1m1250/1250\u001b[0m \u001b[32m━━━━━━━━━━━━━━━━━━━━\u001b[0m\u001b[37m\u001b[0m \u001b[1m5s\u001b[0m 3ms/step - loss: 1.6161 - presence_accuracy: 0.0000e+00 - presence_loss: 0.6931 - water_loss: 0.9230 - water_mae: 0.7322 - val_loss: 1.6376 - val_presence_accuracy: 0.0000e+00 - val_presence_loss: 0.6931 - val_water_loss: 0.9454 - val_water_mae: 0.7376\n",
      "Epoch 2/50\n",
      "\u001b[1m1250/1250\u001b[0m \u001b[32m━━━━━━━━━━━━━━━━━━━━\u001b[0m\u001b[37m\u001b[0m \u001b[1m4s\u001b[0m 3ms/step - loss: 1.6141 - presence_accuracy: 0.0000e+00 - presence_loss: 0.6931 - water_loss: 0.9210 - water_mae: 0.7319 - val_loss: 1.6376 - val_presence_accuracy: 0.0000e+00 - val_presence_loss: 0.6931 - val_water_loss: 0.9454 - val_water_mae: 0.7376\n",
      "Epoch 3/50\n",
      "\u001b[1m1250/1250\u001b[0m \u001b[32m━━━━━━━━━━━━━━━━━━━━\u001b[0m\u001b[37m\u001b[0m \u001b[1m4s\u001b[0m 3ms/step - loss: 1.6127 - presence_accuracy: 0.0000e+00 - presence_loss: 0.6931 - water_loss: 0.9196 - water_mae: 0.7322 - val_loss: 1.6376 - val_presence_accuracy: 0.0000e+00 - val_presence_loss: 0.6931 - val_water_loss: 0.9454 - val_water_mae: 0.7376\n",
      "Epoch 4/50\n",
      "\u001b[1m1250/1250\u001b[0m \u001b[32m━━━━━━━━━━━━━━━━━━━━\u001b[0m\u001b[37m\u001b[0m \u001b[1m4s\u001b[0m 3ms/step - loss: 1.6163 - presence_accuracy: 0.0000e+00 - presence_loss: 0.6931 - water_loss: 0.9232 - water_mae: 0.7328 - val_loss: 1.6376 - val_presence_accuracy: 0.0000e+00 - val_presence_loss: 0.6931 - val_water_loss: 0.9454 - val_water_mae: 0.7376\n",
      "Epoch 5/50\n",
      "\u001b[1m1250/1250\u001b[0m \u001b[32m━━━━━━━━━━━━━━━━━━━━\u001b[0m\u001b[37m\u001b[0m \u001b[1m4s\u001b[0m 3ms/step - loss: 1.6047 - presence_accuracy: 0.0000e+00 - presence_loss: 0.6931 - water_loss: 0.9116 - water_mae: 0.7283 - val_loss: 1.6376 - val_presence_accuracy: 0.0000e+00 - val_presence_loss: 0.6931 - val_water_loss: 0.9454 - val_water_mae: 0.7376\n",
      "Epoch 6/50\n",
      "\u001b[1m1250/1250\u001b[0m \u001b[32m━━━━━━━━━━━━━━━━━━━━\u001b[0m\u001b[37m\u001b[0m \u001b[1m4s\u001b[0m 3ms/step - loss: 1.6013 - presence_accuracy: 0.0000e+00 - presence_loss: 0.6931 - water_loss: 0.9082 - water_mae: 0.7276 - val_loss: 1.6376 - val_presence_accuracy: 0.0000e+00 - val_presence_loss: 0.6931 - val_water_loss: 0.9454 - val_water_mae: 0.7376\n",
      "Epoch 7/50\n",
      "\u001b[1m1250/1250\u001b[0m \u001b[32m━━━━━━━━━━━━━━━━━━━━\u001b[0m\u001b[37m\u001b[0m \u001b[1m4s\u001b[0m 3ms/step - loss: 1.6102 - presence_accuracy: 0.0000e+00 - presence_loss: 0.6931 - water_loss: 0.9171 - water_mae: 0.7308 - val_loss: 1.6376 - val_presence_accuracy: 0.0000e+00 - val_presence_loss: 0.6931 - val_water_loss: 0.9454 - val_water_mae: 0.7376\n",
      "Epoch 8/50\n",
      "\u001b[1m1250/1250\u001b[0m \u001b[32m━━━━━━━━━━━━━━━━━━━━\u001b[0m\u001b[37m\u001b[0m \u001b[1m4s\u001b[0m 3ms/step - loss: 1.6019 - presence_accuracy: 0.0000e+00 - presence_loss: 0.6931 - water_loss: 0.9088 - water_mae: 0.7282 - val_loss: 1.6376 - val_presence_accuracy: 0.0000e+00 - val_presence_loss: 0.6931 - val_water_loss: 0.9454 - val_water_mae: 0.7376\n",
      "Epoch 9/50\n",
      "\u001b[1m1250/1250\u001b[0m \u001b[32m━━━━━━━━━━━━━━━━━━━━\u001b[0m\u001b[37m\u001b[0m \u001b[1m4s\u001b[0m 3ms/step - loss: 1.6099 - presence_accuracy: 0.0000e+00 - presence_loss: 0.6931 - water_loss: 0.9168 - water_mae: 0.7301 - val_loss: 1.6376 - val_presence_accuracy: 0.0000e+00 - val_presence_loss: 0.6931 - val_water_loss: 0.9454 - val_water_mae: 0.7376\n",
      "Epoch 10/50\n",
      "\u001b[1m 220/1250\u001b[0m \u001b[32m━━━\u001b[0m\u001b[37m━━━━━━━━━━━━━━━━━\u001b[0m \u001b[1m2s\u001b[0m 2ms/step - loss: 1.5766 - presence_accuracy: 0.0000e+00 - presence_loss: 0.6931 - water_loss: 0.8835 - water_mae: 0.7180"
     ]
    }
   ],
   "source": [
    "proj_name = 'try3_rainshaft_M3069'\n",
    "tuner = kt.RandomSearch(\n",
    "    lambda hp: tu.build_classreg_model(hp, npar, nobs),\n",
    "    objective=\"val_loss\",\n",
    "    max_trials=100,\n",
    "    directory='/pscratch/sd/a/arthurhu/BOSS_PPE/hp_tuning_withclass/multi-output',\n",
    "    project_name=proj_name,\n",
    ")\n",
    "\n",
    "\n",
    "stop_early = keras.callbacks.EarlyStopping(monitor='val_loss', patience=10)\n",
    "\n",
    "tuner.search(\n",
    "    x_train,\n",
    "    {'presence': y_train_wpresence, 'water': y_train},\n",
    "    epochs=50,\n",
    "    validation_data=(x_val, {'presence': y_val_wpresence, 'water': y_val}),\n",
    "    callbacks=([stop_early])\n",
    ")\n",
    "\n",
    "# Retrieve the best hyperparameters and build the best model:\n",
    "best_hp = tuner.get_best_hyperparameters(num_trials=1)[0]\n",
    "best_model = tuner.hypermodel.build(best_hp)\n",
    "\n"
   ]
  },
  {
   "cell_type": "code",
   "execution_count": 16,
   "metadata": {},
   "outputs": [
    {
     "data": {
      "text/html": [
       "<pre style=\"white-space:pre;overflow-x:auto;line-height:normal;font-family:Menlo,'DejaVu Sans Mono',consolas,'Courier New',monospace\"><span style=\"font-weight: bold\">Model: \"functional_1\"</span>\n",
       "</pre>\n"
      ],
      "text/plain": [
       "\u001b[1mModel: \"functional_1\"\u001b[0m\n"
      ]
     },
     "metadata": {},
     "output_type": "display_data"
    },
    {
     "data": {
      "text/html": [
       "<pre style=\"white-space:pre;overflow-x:auto;line-height:normal;font-family:Menlo,'DejaVu Sans Mono',consolas,'Courier New',monospace\">┏━━━━━━━━━━━━━━━━━━━━━┳━━━━━━━━━━━━━━━━━━━┳━━━━━━━━━━━━┳━━━━━━━━━━━━━━━━━━━┓\n",
       "┃<span style=\"font-weight: bold\"> Layer (type)        </span>┃<span style=\"font-weight: bold\"> Output Shape      </span>┃<span style=\"font-weight: bold\">    Param # </span>┃<span style=\"font-weight: bold\"> Connected to      </span>┃\n",
       "┡━━━━━━━━━━━━━━━━━━━━━╇━━━━━━━━━━━━━━━━━━━╇━━━━━━━━━━━━╇━━━━━━━━━━━━━━━━━━━┩\n",
       "│ input_layer_1       │ (<span style=\"color: #00d7ff; text-decoration-color: #00d7ff\">None</span>, <span style=\"color: #00af00; text-decoration-color: #00af00\">30</span>)        │          <span style=\"color: #00af00; text-decoration-color: #00af00\">0</span> │ -                 │\n",
       "│ (<span style=\"color: #0087ff; text-decoration-color: #0087ff\">InputLayer</span>)        │                   │            │                   │\n",
       "├─────────────────────┼───────────────────┼────────────┼───────────────────┤\n",
       "│ dense_5 (<span style=\"color: #0087ff; text-decoration-color: #0087ff\">Dense</span>)     │ (<span style=\"color: #00d7ff; text-decoration-color: #00d7ff\">None</span>, <span style=\"color: #00af00; text-decoration-color: #00af00\">128</span>)       │      <span style=\"color: #00af00; text-decoration-color: #00af00\">3,968</span> │ input_layer_1[<span style=\"color: #00af00; text-decoration-color: #00af00\">0</span>]… │\n",
       "├─────────────────────┼───────────────────┼────────────┼───────────────────┤\n",
       "│ dense_6 (<span style=\"color: #0087ff; text-decoration-color: #0087ff\">Dense</span>)     │ (<span style=\"color: #00d7ff; text-decoration-color: #00d7ff\">None</span>, <span style=\"color: #00af00; text-decoration-color: #00af00\">64</span>)        │      <span style=\"color: #00af00; text-decoration-color: #00af00\">8,256</span> │ dense_5[<span style=\"color: #00af00; text-decoration-color: #00af00\">0</span>][<span style=\"color: #00af00; text-decoration-color: #00af00\">0</span>]     │\n",
       "├─────────────────────┼───────────────────┼────────────┼───────────────────┤\n",
       "│ dense_7 (<span style=\"color: #0087ff; text-decoration-color: #0087ff\">Dense</span>)     │ (<span style=\"color: #00d7ff; text-decoration-color: #00d7ff\">None</span>, <span style=\"color: #00af00; text-decoration-color: #00af00\">160</span>)       │     <span style=\"color: #00af00; text-decoration-color: #00af00\">10,400</span> │ dense_6[<span style=\"color: #00af00; text-decoration-color: #00af00\">0</span>][<span style=\"color: #00af00; text-decoration-color: #00af00\">0</span>]     │\n",
       "├─────────────────────┼───────────────────┼────────────┼───────────────────┤\n",
       "│ presence (<span style=\"color: #0087ff; text-decoration-color: #0087ff\">Dense</span>)    │ (<span style=\"color: #00d7ff; text-decoration-color: #00d7ff\">None</span>, <span style=\"color: #00af00; text-decoration-color: #00af00\">14404</span>)     │  <span style=\"color: #00af00; text-decoration-color: #00af00\">2,319,044</span> │ dense_7[<span style=\"color: #00af00; text-decoration-color: #00af00\">0</span>][<span style=\"color: #00af00; text-decoration-color: #00af00\">0</span>]     │\n",
       "├─────────────────────┼───────────────────┼────────────┼───────────────────┤\n",
       "│ water (<span style=\"color: #0087ff; text-decoration-color: #0087ff\">Dense</span>)       │ (<span style=\"color: #00d7ff; text-decoration-color: #00d7ff\">None</span>, <span style=\"color: #00af00; text-decoration-color: #00af00\">14404</span>)     │  <span style=\"color: #00af00; text-decoration-color: #00af00\">2,319,044</span> │ dense_7[<span style=\"color: #00af00; text-decoration-color: #00af00\">0</span>][<span style=\"color: #00af00; text-decoration-color: #00af00\">0</span>]     │\n",
       "└─────────────────────┴───────────────────┴────────────┴───────────────────┘\n",
       "</pre>\n"
      ],
      "text/plain": [
       "┏━━━━━━━━━━━━━━━━━━━━━┳━━━━━━━━━━━━━━━━━━━┳━━━━━━━━━━━━┳━━━━━━━━━━━━━━━━━━━┓\n",
       "┃\u001b[1m \u001b[0m\u001b[1mLayer (type)       \u001b[0m\u001b[1m \u001b[0m┃\u001b[1m \u001b[0m\u001b[1mOutput Shape     \u001b[0m\u001b[1m \u001b[0m┃\u001b[1m \u001b[0m\u001b[1m   Param #\u001b[0m\u001b[1m \u001b[0m┃\u001b[1m \u001b[0m\u001b[1mConnected to     \u001b[0m\u001b[1m \u001b[0m┃\n",
       "┡━━━━━━━━━━━━━━━━━━━━━╇━━━━━━━━━━━━━━━━━━━╇━━━━━━━━━━━━╇━━━━━━━━━━━━━━━━━━━┩\n",
       "│ input_layer_1       │ (\u001b[38;5;45mNone\u001b[0m, \u001b[38;5;34m30\u001b[0m)        │          \u001b[38;5;34m0\u001b[0m │ -                 │\n",
       "│ (\u001b[38;5;33mInputLayer\u001b[0m)        │                   │            │                   │\n",
       "├─────────────────────┼───────────────────┼────────────┼───────────────────┤\n",
       "│ dense_5 (\u001b[38;5;33mDense\u001b[0m)     │ (\u001b[38;5;45mNone\u001b[0m, \u001b[38;5;34m128\u001b[0m)       │      \u001b[38;5;34m3,968\u001b[0m │ input_layer_1[\u001b[38;5;34m0\u001b[0m]… │\n",
       "├─────────────────────┼───────────────────┼────────────┼───────────────────┤\n",
       "│ dense_6 (\u001b[38;5;33mDense\u001b[0m)     │ (\u001b[38;5;45mNone\u001b[0m, \u001b[38;5;34m64\u001b[0m)        │      \u001b[38;5;34m8,256\u001b[0m │ dense_5[\u001b[38;5;34m0\u001b[0m][\u001b[38;5;34m0\u001b[0m]     │\n",
       "├─────────────────────┼───────────────────┼────────────┼───────────────────┤\n",
       "│ dense_7 (\u001b[38;5;33mDense\u001b[0m)     │ (\u001b[38;5;45mNone\u001b[0m, \u001b[38;5;34m160\u001b[0m)       │     \u001b[38;5;34m10,400\u001b[0m │ dense_6[\u001b[38;5;34m0\u001b[0m][\u001b[38;5;34m0\u001b[0m]     │\n",
       "├─────────────────────┼───────────────────┼────────────┼───────────────────┤\n",
       "│ presence (\u001b[38;5;33mDense\u001b[0m)    │ (\u001b[38;5;45mNone\u001b[0m, \u001b[38;5;34m14404\u001b[0m)     │  \u001b[38;5;34m2,319,044\u001b[0m │ dense_7[\u001b[38;5;34m0\u001b[0m][\u001b[38;5;34m0\u001b[0m]     │\n",
       "├─────────────────────┼───────────────────┼────────────┼───────────────────┤\n",
       "│ water (\u001b[38;5;33mDense\u001b[0m)       │ (\u001b[38;5;45mNone\u001b[0m, \u001b[38;5;34m14404\u001b[0m)     │  \u001b[38;5;34m2,319,044\u001b[0m │ dense_7[\u001b[38;5;34m0\u001b[0m][\u001b[38;5;34m0\u001b[0m]     │\n",
       "└─────────────────────┴───────────────────┴────────────┴───────────────────┘\n"
      ]
     },
     "metadata": {},
     "output_type": "display_data"
    },
    {
     "data": {
      "text/html": [
       "<pre style=\"white-space:pre;overflow-x:auto;line-height:normal;font-family:Menlo,'DejaVu Sans Mono',consolas,'Courier New',monospace\"><span style=\"font-weight: bold\"> Total params: </span><span style=\"color: #00af00; text-decoration-color: #00af00\">4,660,712</span> (17.78 MB)\n",
       "</pre>\n"
      ],
      "text/plain": [
       "\u001b[1m Total params: \u001b[0m\u001b[38;5;34m4,660,712\u001b[0m (17.78 MB)\n"
      ]
     },
     "metadata": {},
     "output_type": "display_data"
    },
    {
     "data": {
      "text/html": [
       "<pre style=\"white-space:pre;overflow-x:auto;line-height:normal;font-family:Menlo,'DejaVu Sans Mono',consolas,'Courier New',monospace\"><span style=\"font-weight: bold\"> Trainable params: </span><span style=\"color: #00af00; text-decoration-color: #00af00\">4,660,712</span> (17.78 MB)\n",
       "</pre>\n"
      ],
      "text/plain": [
       "\u001b[1m Trainable params: \u001b[0m\u001b[38;5;34m4,660,712\u001b[0m (17.78 MB)\n"
      ]
     },
     "metadata": {},
     "output_type": "display_data"
    },
    {
     "data": {
      "text/html": [
       "<pre style=\"white-space:pre;overflow-x:auto;line-height:normal;font-family:Menlo,'DejaVu Sans Mono',consolas,'Courier New',monospace\"><span style=\"font-weight: bold\"> Non-trainable params: </span><span style=\"color: #00af00; text-decoration-color: #00af00\">0</span> (0.00 B)\n",
       "</pre>\n"
      ],
      "text/plain": [
       "\u001b[1m Non-trainable params: \u001b[0m\u001b[38;5;34m0\u001b[0m (0.00 B)\n"
      ]
     },
     "metadata": {},
     "output_type": "display_data"
    }
   ],
   "source": [
    "best_model.summary()"
   ]
  },
  {
   "cell_type": "code",
   "execution_count": 17,
   "metadata": {},
   "outputs": [
    {
     "data": {
      "application/vnd.jupyter.widget-view+json": {
       "model_id": "365b108fef634ec6b2ef1ea9c649d407",
       "version_major": 2,
       "version_minor": 0
      },
      "text/plain": [
       "0epoch [00:00, ?epoch/s]"
      ]
     },
     "metadata": {},
     "output_type": "display_data"
    },
    {
     "data": {
      "application/vnd.jupyter.widget-view+json": {
       "model_id": "d0f5ecef4f124d1a91c3e2c95989273b",
       "version_major": 2,
       "version_minor": 0
      },
      "text/plain": [
       "0batch [00:00, ?batch/s]"
      ]
     },
     "metadata": {},
     "output_type": "display_data"
    }
   ],
   "source": [
    "# stop_early = keras.callbacks.EarlyStopping(monitor='val_presence_accuracy', mode='max', patience=2000)\n",
    "\n",
    "train_dataset = (tf.data.Dataset.from_tensor_slices((x_train, {'presence': y_train_wpresence, 'water': y_train}))\n",
    "                 .shuffle(buffer_size=len(x_train))\n",
    "                 .cache()\n",
    "                 .batch(32)\n",
    "                 .prefetch(tf.data.AUTOTUNE))\n",
    "\n",
    "val_dataset = (tf.data.Dataset.from_tensor_slices((x_val, {'presence': y_val_wpresence, 'water': y_val}))\n",
    "               .cache()\n",
    "               .batch(32)\n",
    "               .prefetch(tf.data.AUTOTUNE))\n",
    "\n",
    "history = best_model.fit(\n",
    "    train_dataset,\n",
    "    epochs=15000,\n",
    "    verbose=0,\n",
    "    validation_data=val_dataset,\n",
    "    callbacks=[TqdmCallback(verbose=1)]\n",
    ")\n"
   ]
  },
  {
   "cell_type": "code",
   "execution_count": 18,
   "metadata": {},
   "outputs": [
    {
     "data": {
      "text/plain": [
       "<matplotlib.legend.Legend at 0x7f9922407f50>"
      ]
     },
     "execution_count": 18,
     "metadata": {},
     "output_type": "execute_result"
    },
    {
     "data": {
      "image/png": "[encoded data removed]",
      "text/plain": [
       "<Figure size 640x480 with 1 Axes>"
      ]
     },
     "metadata": {},
     "output_type": "display_data"
    },
    {
     "data": {
      "image/png": "[encoded data removed]",
      "text/plain": [
       "<Figure size 640x480 with 1 Axes>"
      ]
     },
     "metadata": {},
     "output_type": "display_data"
    }
   ],
   "source": [
    "plt.figure()\n",
    "plt.plot(history.epoch, history.history['presence_accuracy'], label='Training')\n",
    "plt.plot(history.epoch, history.history['val_presence_accuracy'], label='Validation')\n",
    "plt.ylabel('Water Presence Accuracy')\n",
    "plt.legend()\n",
    "\n",
    "plt.figure()\n",
    "plt.plot(history.epoch, history.history['water_loss'], label='Training')\n",
    "plt.plot(history.epoch, history.history['val_water_loss'], label='Validation')\n",
    "plt.ylabel('Water Content Loss')\n",
    "plt.legend()"
   ]
  },
  {
   "cell_type": "code",
   "execution_count": 19,
   "metadata": {},
   "outputs": [],
   "source": [
    "# save model:\n",
    "best_model.save('/pscratch/sd/a/arthurhu/BOSS_PPE/models/multioutput_' + proj_name + '.keras')"
   ]
  },
  {
   "cell_type": "markdown",
   "metadata": {},
   "source": [
    "## validation"
   ]
  },
  {
   "cell_type": "code",
   "execution_count": null,
   "metadata": {},
   "outputs": [],
   "source": [
    "# best_model = tf.keras.models.load_model('models/multioutput_try28_condcoll_fullmom_nopartition_asinh.keras', compile=False)\n",
    "plt.plot(best_model(x_val)[1][:, 0])\n",
    "# cc_model(x_val)[1]"
   ]
  },
  {
   "cell_type": "code",
   "execution_count": null,
   "metadata": {},
   "outputs": [],
   "source": [
    "plt.plot(y_val[:,0])"
   ]
  },
  {
   "cell_type": "code",
   "execution_count": null,
   "metadata": {},
   "outputs": [],
   "source": [
    "y_pred = standscale.inverse_transform(best_model(x_val)[1].numpy())\n",
    "# y_pred = model(x_val)\n",
    "plt.plot(y_pred[:,0])"
   ]
  },
  {
   "cell_type": "code",
   "execution_count": null,
   "metadata": {},
   "outputs": [],
   "source": [
    "standscale.inverse_transform(y_train)"
   ]
  },
  {
   "cell_type": "code",
   "execution_count": null,
   "metadata": {},
   "outputs": [],
   "source": [
    "np.mean(y_pred[:, 0]), np.mean(standscale.inverse_transform(y_train)[:, 0])"
   ]
  },
  {
   "cell_type": "code",
   "execution_count": null,
   "metadata": {},
   "outputs": [],
   "source": [
    "y_pred.shape"
   ]
  },
  {
   "cell_type": "code",
   "execution_count": null,
   "metadata": {},
   "outputs": [],
   "source": [
    "y_pred = standscale.inverse_transform(best_model(x_val)[1].numpy())\n",
    "# y_pred = standscale.inverse_transform(model(x_val).numpy())\n",
    "# y_pred = np.exp(standscale.inverse_transform(model(x_val).numpy()))\n",
    "y_val_lin = standscale.inverse_transform(y_val)\n",
    "# y_train_lin = np.exp(standscale.inverse_transform(y_train))\n",
    "\n",
    "fig = plt.figure(figsize=(14,14))\n",
    "gs = gridspec.GridSpec(1,4)\n",
    "for i in range(len(eff0)):\n",
    "    ax = fig.add_subplot(gs[i])\n",
    "    ax.set_aspect('equal')\n",
    "    plt.scatter(y_val_lin[:,i], y_pred[:,i], alpha=0.05,c='k')\n",
    "    # plt.scatter(ppe_sim_valid['vals'][:,i], y_pred[:,i],alpha=0.2,c='k')\n",
    "    # plt.scatter(y_val[:,i], y_pred[:,i],alpha=0.2,c='k')\n",
    "    plt.title(ppe_sim_train['var_names'][i])\n",
    "    ax_min = min(list(ax.get_ylim() + ax.get_xlim()))\n",
    "    ax_max = max(list(ax.get_ylim() + ax.get_xlim()))\n",
    "    plt.plot([ax_min, ax_max], [ax_min, ax_max])\n",
    "    # ax.set_xscale('log')\n",
    "    # ax.set_yscale('log')\n",
    "# fig.tight_layout()\n",
    "# plt.savefig(plot_dir + proj_name + '.png')"
   ]
  },
  {
   "cell_type": "code",
   "execution_count": null,
   "metadata": {},
   "outputs": [],
   "source": []
  }
 ],
 "metadata": {
  "kernelspec": {
   "display_name": "PPE_env",
   "language": "python",
   "name": "boss_ppe"
  },
  "language_info": {
   "codemirror_mode": {
    "name": "ipython",
    "version": 3
   },
   "file_extension": ".py",
   "mimetype": "text/x-python",
   "name": "python",
   "nbconvert_exporter": "python",
   "pygments_lexer": "ipython3",
   "version": "3.12.10"
  }
 },
 "nbformat": 4,
 "nbformat_minor": 4
}
