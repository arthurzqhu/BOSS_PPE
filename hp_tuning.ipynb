{
 "cells": [
  {
   "cell_type": "markdown",
   "metadata": {},
   "source": [
    "# setup"
   ]
  },
  {
   "cell_type": "code",
   "execution_count": 1,
   "metadata": {
    "editable": true,
    "slideshow": {
     "slide_type": ""
    },
    "tags": []
   },
   "outputs": [
    {
     "name": "stderr",
     "output_type": "stream",
     "text": [
      "2025-05-20 17:22:31.023100: E external/local_xla/xla/stream_executor/cuda/cuda_fft.cc:467] Unable to register cuFFT factory: Attempting to register factory for plugin cuFFT when one has already been registered\n",
      "WARNING: All log messages before absl::InitializeLog() is called are written to STDERR\n",
      "E0000 00:00:1747761751.149727 1367832 cuda_dnn.cc:8579] Unable to register cuDNN factory: Attempting to register factory for plugin cuDNN when one has already been registered\n",
      "E0000 00:00:1747761751.182502 1367832 cuda_blas.cc:1407] Unable to register cuBLAS factory: Attempting to register factory for plugin cuBLAS when one has already been registered\n",
      "W0000 00:00:1747761751.442839 1367832 computation_placer.cc:177] computation placer already registered. Please check linkage and avoid linking the same target more than once.\n",
      "W0000 00:00:1747761751.442859 1367832 computation_placer.cc:177] computation placer already registered. Please check linkage and avoid linking the same target more than once.\n",
      "W0000 00:00:1747761751.442862 1367832 computation_placer.cc:177] computation placer already registered. Please check linkage and avoid linking the same target more than once.\n",
      "W0000 00:00:1747761751.442864 1367832 computation_placer.cc:177] computation placer already registered. Please check linkage and avoid linking the same target more than once.\n",
      "2025-05-20 17:22:31.454240: I tensorflow/core/platform/cpu_feature_guard.cc:210] This TensorFlow binary is optimized to use available CPU instructions in performance-critical operations.\n",
      "To enable the following instructions: AVX2 FMA, in other operations, rebuild TensorFlow with the appropriate compiler flags.\n"
     ]
    }
   ],
   "source": [
    "import tensorflow as tf\n",
    "from tensorflow import keras\n",
    "import keras_tuner as kt\n",
    "import matplotlib.pyplot as plt\n",
    "import matplotlib.gridspec as gridspec\n",
    "import tuning_fun as tu\n",
    "import emulator_fun as ef\n",
    "import numpy as np\n",
    "from tqdm.keras import TqdmCallback\n",
    "import pandas as pd\n",
    "import time\n",
    "import netCDF4 as nc\n",
    "\n",
    "gpus = tf.config.list_physical_devices('GPU')\n",
    "if gpus:\n",
    "    try:\n",
    "        for gpu in gpus:\n",
    "            tf.config.experimental.set_memory_growth(gpu, True)\n",
    "    except RuntimeError as e:\n",
    "        print(e)\n",
    "\n",
    "print(gpus)\n",
    "# if gpus:\n",
    "#     try:\n",
    "#         tf.config.experimental.set_virtual_device_configuration(\n",
    "#             gpus[0],\n",
    "#             [tf.config.experimental.VirtualDeviceConfiguration(memory_limit=10240)]  # in MB\n",
    "#         )\n",
    "#     except RuntimeError as e:\n",
    "#         print(e)"
   ]
  },
  {
   "cell_type": "markdown",
   "metadata": {},
   "source": [
    "# HP tuning"
   ]
  },
  {
   "cell_type": "markdown",
   "metadata": {},
   "source": [
    "## pre-processing"
   ]
  },
  {
   "cell_type": "code",
   "execution_count": 3,
   "metadata": {},
   "outputs": [],
   "source": [
    "case_name = 'rainshaft_dt300_sedflux'\n",
    "base_path = '/pscratch/sd/a/arthurhu/BOSS_PPE/summary_ncs/'\n",
    "filename = case_name + '.nc'\n",
    "\n",
    "param_all_idx = np.arange(39)\n",
    "# REVIEW: check every time if this is true ... not sure how to implement this programatically\n",
    "# param_interest_idx = np.arange(16,28)\n",
    "param_interest_idx = np.arange(28,39)\n",
    "# param_interest_idx = np.arange(0,28)\n",
    "# param_interest_idx = np.arange(12)\n",
    "# param_interest_idx = np.concatenate((np.arange(0,8), np.arange(16,28)))\n",
    "\n",
    "param_train = ef.get_params(base_path, filename, param_interest_idx)"
   ]
  },
  {
   "cell_type": "code",
   "execution_count": 4,
   "metadata": {},
   "outputs": [],
   "source": [
    "nppe, npar = param_train['vals'].shape"
   ]
  },
  {
   "cell_type": "code",
   "execution_count": 5,
   "metadata": {},
   "outputs": [],
   "source": [
    "dataset = nc.Dataset(base_path + filename, mode='r')"
   ]
  },
  {
   "cell_type": "code",
   "execution_count": 6,
   "metadata": {},
   "outputs": [],
   "source": [
    "eff0s = getattr(dataset, 'thresholds_eff0')\n",
    "var_constraints = getattr(dataset, 'var_constraints')\n",
    "ppe_var_names = ['boss_' + i for i in var_constraints]\n",
    "ppe_raw_vals = [dataset.variables[i][:] for i in ppe_var_names]\n",
    "tgt_var_names = ['bin_' + i for i in var_constraints]\n",
    "tgt_raw_vals = [dataset.variables[i][:] for i in tgt_var_names]"
   ]
  },
  {
   "cell_type": "code",
   "execution_count": 7,
   "metadata": {},
   "outputs": [],
   "source": [
    "nobs = int(sum([ppe_raw_vals[i].size for i in range(len(var_constraints))])/nppe)"
   ]
  },
  {
   "cell_type": "code",
   "execution_count": 8,
   "metadata": {},
   "outputs": [],
   "source": [
    "ppe_var_presence = ppe_asinh = ppe_all = np.empty((nppe,0), dtype=np.float32)\n",
    "ncases = tgt_raw_vals[0].shape[0]\n",
    "tgt_var_presence = tgt_asinh = tgt_all = np.empty((ncases,0), dtype=np.float32)\n",
    "\n",
    "for idx, eff0 in enumerate(eff0s):\n",
    "    if ppe_raw_vals[idx].ndim >= 2:\n",
    "        ppe_raw_val_reshaped = np.reshape(ppe_raw_vals[idx], (nppe, np.prod(ppe_raw_vals[idx].shape[1:])))\n",
    "        tgt_raw_val_reshaped = np.reshape(tgt_raw_vals[idx], (ncases, np.prod(tgt_raw_vals[idx].shape[1:])))\n",
    "    else:\n",
    "        ppe_raw_val_reshaped = ppe_raw_vals[idx].reshape(-1, 1)\n",
    "        tgt_raw_val_reshaped = tgt_raw_vals[idx].reshape(-1, 1)\n",
    "    ppe_var_presence = np.concatenate((ppe_var_presence, ppe_raw_val_reshaped > eff0s[idx]/100), axis=1)\n",
    "    ppe_asinh_reshaped = ef.smooth_linlog(ppe_raw_val_reshaped, eff0)\n",
    "    ppe_asinh = np.concatenate((ppe_asinh, ppe_asinh_reshaped), axis=1)\n",
    "    tgt_var_presence = np.concatenate((tgt_var_presence, tgt_raw_val_reshaped > eff0s[idx]/100), axis=1)\n",
    "    tgt_asinh_reshaped = ef.smooth_linlog(tgt_raw_val_reshaped, eff0)\n",
    "    tgt_asinh = np.concatenate((tgt_asinh, tgt_asinh_reshaped), axis=1)\n"
   ]
  },
  {
   "cell_type": "code",
   "execution_count": 9,
   "metadata": {},
   "outputs": [
    {
     "data": {
      "text/plain": [
       "np.int64(0)"
      ]
     },
     "execution_count": 9,
     "metadata": {},
     "output_type": "execute_result"
    }
   ],
   "source": [
    "np.sum(~np.isfinite(param_train['vals']))"
   ]
  },
  {
   "cell_type": "code",
   "execution_count": 10,
   "metadata": {},
   "outputs": [
    {
     "data": {
      "text/plain": [
       "masked_array(data=[ 7.39277113e-05, -9.08195210e+00,  2.42879620e+01,\n",
       "                   -1.68155760e-01,  2.57169697e-02,  1.47334263e-01,\n",
       "                   -2.38416623e-03,  5.72572291e-01,  1.89379886e-01,\n",
       "                    3.46292406e-01,  5.46184361e-01,  5.41824043e-01],\n",
       "             mask=False,\n",
       "       fill_value=1e+20)"
      ]
     },
     "execution_count": 10,
     "metadata": {},
     "output_type": "execute_result"
    }
   ],
   "source": [
    "param_train['vals'][1,:]"
   ]
  },
  {
   "cell_type": "code",
   "execution_count": 11,
   "metadata": {},
   "outputs": [],
   "source": [
    "from sklearn import preprocessing\n",
    "import sklearn.model_selection as mod_sec\n",
    "\n",
    "minmaxscale = preprocessing.MinMaxScaler().fit(param_train['vals'])\n",
    "x_all = minmaxscale.transform(param_train['vals'])\n",
    "\n",
    "standscale = preprocessing.StandardScaler().fit(ppe_asinh)\n",
    "ppe_all = standscale.transform(ppe_asinh)\n",
    "tgt_all = standscale.transform(tgt_asinh)"
   ]
  },
  {
   "cell_type": "code",
   "execution_count": 12,
   "metadata": {},
   "outputs": [],
   "source": [
    "x_train, x_val, y_train_wpresence, y_val_wpresence = mod_sec.train_test_split(x_all, ppe_var_presence, test_size=0.2, random_state=1)\n",
    "_, _, y_train, y_val = mod_sec.train_test_split(x_all, ppe_all, test_size=0.2, random_state=1)\n",
    "\n",
    "y_train = np.nan_to_num(y_train, nan=-1001)\n",
    "y_val = np.nan_to_num(y_val, nan=-1001)"
   ]
  },
  {
   "cell_type": "code",
   "execution_count": 13,
   "metadata": {},
   "outputs": [
    {
     "data": {
      "text/plain": [
       "(array([5.000e+00, 1.000e+00, 0.000e+00, 0.000e+00, 0.000e+00, 0.000e+00,\n",
       "        0.000e+00, 1.000e+00, 0.000e+00, 0.000e+00, 0.000e+00, 0.000e+00,\n",
       "        0.000e+00, 1.000e+00, 0.000e+00, 0.000e+00, 0.000e+00, 0.000e+00,\n",
       "        1.000e+00, 2.000e+00, 9.000e+00, 7.200e+01, 6.900e+01, 1.110e+02,\n",
       "        2.640e+02, 2.920e+02, 6.940e+02, 1.249e+03, 1.616e+03, 1.271e+03,\n",
       "        6.260e+02, 3.520e+02, 3.060e+02, 3.080e+02, 2.670e+02, 2.720e+02,\n",
       "        2.620e+02, 2.460e+02, 2.490e+02, 2.630e+02, 2.850e+02, 2.044e+03,\n",
       "        2.390e+02, 2.350e+02, 2.530e+02, 2.670e+02, 3.210e+02, 3.210e+02,\n",
       "        3.050e+02, 2.670e+02, 2.750e+02, 2.710e+02, 2.460e+02, 2.970e+02,\n",
       "        3.630e+02, 3.700e+02, 2.610e+02, 2.140e+02, 2.330e+02, 2.520e+02,\n",
       "        2.730e+02, 2.050e+02, 1.980e+02, 2.170e+02, 2.390e+02, 1.960e+02,\n",
       "        1.620e+02, 1.640e+02, 1.500e+02, 1.770e+02, 1.290e+02, 1.390e+02,\n",
       "        1.440e+02, 1.450e+02, 1.310e+02, 1.300e+02, 1.240e+02, 1.020e+02,\n",
       "        1.220e+02, 1.320e+02, 1.370e+02, 1.500e+02, 1.700e+02, 1.700e+02,\n",
       "        1.660e+02, 2.580e+02, 2.830e+02, 3.790e+02, 5.840e+02, 5.220e+02,\n",
       "        2.880e+02, 9.400e+01, 5.200e+01, 3.100e+01, 8.000e+00, 6.000e+00,\n",
       "        4.000e+00, 2.000e+00, 2.000e+00, 2.000e+00]),\n",
       " array([-2.30704607, -2.25169254, -2.19633902, -2.1409855 , -2.08563198,\n",
       "        -2.03027845, -1.97492493, -1.91957141, -1.86421788, -1.80886436,\n",
       "        -1.75351084, -1.69815731, -1.64280379, -1.58745027, -1.53209675,\n",
       "        -1.47674322, -1.4213897 , -1.36603618, -1.31068265, -1.25532913,\n",
       "        -1.19997561, -1.14462208, -1.08926856, -1.03391504, -0.97856152,\n",
       "        -0.92320799, -0.86785447, -0.81250095, -0.75714742, -0.7017939 ,\n",
       "        -0.64644038, -0.59108685, -0.53573333, -0.48037981, -0.42502629,\n",
       "        -0.36967276, -0.31431924, -0.25896572, -0.20361219, -0.14825867,\n",
       "        -0.09290515, -0.03755162,  0.0178019 ,  0.07315542,  0.12850895,\n",
       "         0.18386247,  0.23921599,  0.29456951,  0.34992304,  0.40527656,\n",
       "         0.46063008,  0.51598361,  0.57133713,  0.62669065,  0.68204418,\n",
       "         0.7373977 ,  0.79275122,  0.84810474,  0.90345827,  0.95881179,\n",
       "         1.01416531,  1.06951884,  1.12487236,  1.18022588,  1.23557941,\n",
       "         1.29093293,  1.34628645,  1.40163997,  1.4569935 ,  1.51234702,\n",
       "         1.56770054,  1.62305407,  1.67840759,  1.73376111,  1.78911464,\n",
       "         1.84446816,  1.89982168,  1.95517521,  2.01052873,  2.06588225,\n",
       "         2.12123577,  2.1765893 ,  2.23194282,  2.28729634,  2.34264987,\n",
       "         2.39800339,  2.45335691,  2.50871044,  2.56406396,  2.61941748,\n",
       "         2.674771  ,  2.73012453,  2.78547805,  2.84083157,  2.8961851 ,\n",
       "         2.95153862,  3.00689214,  3.06224567,  3.11759919,  3.17295271,\n",
       "         3.22830623]),\n",
       " <BarContainer object of 100 artists>)"
      ]
     },
     "execution_count": 13,
     "metadata": {},
     "output_type": "execute_result"
    },
    {
     "data": {
      "image/png": "[encoded data removed]",
      "text/plain": [
       "<Figure size 640x480 with 1 Axes>"
      ]
     },
     "metadata": {},
     "output_type": "display_data"
    },
    {
     "data": {
      "image/png": "[encoded data removed]",
      "text/plain": [
       "<Figure size 640x480 with 1 Axes>"
      ]
     },
     "metadata": {},
     "output_type": "display_data"
    }
   ],
   "source": [
    "# np.sum(ppe_sim_train['vals'] > y_thresholds)\n",
    "# test = np.log10(tgt_sim['vals'][0,7204:10804])\n",
    "# test_finite = test[np.isfinite(test)]\n",
    "a = 0\n",
    "# ytrue = tgt_sim['vals'][:,a+6:a+3606]\n",
    "# ytrue[~np.isfinite(ytrue)] = np.nan\n",
    "# plt.hist(ytrue.flatten())\n",
    "# plt.figure()\n",
    "# plt.hist(y_all[:,5:65].flatten(), bins=100)\n",
    "# plt.figure()\n",
    "# plt.hist(tgt_all[:,5:65].flatten(), bins=100)\n",
    "\n",
    "plt.hist(ppe_all[:,a+4:a+2580].flatten(), bins=100)\n",
    "plt.figure()\n",
    "plt.hist(tgt_all[:,a+4:a+2580].flatten(), bins=100)"
   ]
  },
  {
   "cell_type": "code",
   "execution_count": 14,
   "metadata": {},
   "outputs": [
    {
     "data": {
      "text/plain": [
       "np.float64(-0.6259873082601212)"
      ]
     },
     "execution_count": 14,
     "metadata": {},
     "output_type": "execute_result"
    }
   ],
   "source": [
    "np.mean(tgt_all[0,a+4:a+3604])"
   ]
  },
  {
   "cell_type": "markdown",
   "metadata": {},
   "source": [
    "## multi-output model"
   ]
  },
  {
   "cell_type": "code",
   "execution_count": 15,
   "metadata": {},
   "outputs": [
    {
     "name": "stdout",
     "output_type": "stream",
     "text": [
      "Trial 100 Complete [00h 01m 55s]\n",
      "val_loss: 1.6166032552719116\n",
      "\n",
      "Best val_loss So Far: 0.2707463502883911\n",
      "Total elapsed time: 03h 18m 53s\n"
     ]
    }
   ],
   "source": [
    "proj_name = 'try6_rainshaft_sedflux_M3069'\n",
    "tuner = kt.RandomSearch(\n",
    "    lambda hp: tu.build_classreg_model(hp, npar, nobs),\n",
    "    objective=\"val_loss\",\n",
    "    max_trials=100,\n",
    "    directory='/pscratch/sd/a/arthurhu/BOSS_PPE/hp_tuning_withclass/multi-output',\n",
    "    project_name=proj_name,\n",
    ")\n",
    "\n",
    "\n",
    "stop_early = keras.callbacks.EarlyStopping(monitor='val_loss', patience=10)\n",
    "\n",
    "tuner.search(\n",
    "    x_train,\n",
    "    {'presence': y_train_wpresence, 'water': y_train},\n",
    "    epochs=50,\n",
    "    validation_data=(x_val, {'presence': y_val_wpresence, 'water': y_val}),\n",
    "    callbacks=([stop_early])\n",
    ")\n",
    "\n",
    "# Retrieve the best hyperparameters and build the best model:\n",
    "best_hp = tuner.get_best_hyperparameters(num_trials=1)[0]\n",
    "best_model = tuner.hypermodel.build(best_hp)\n",
    "\n"
   ]
  },
  {
   "cell_type": "code",
   "execution_count": 16,
   "metadata": {},
   "outputs": [
    {
     "data": {
      "text/html": [
       "<pre style=\"white-space:pre;overflow-x:auto;line-height:normal;font-family:Menlo,'DejaVu Sans Mono',consolas,'Courier New',monospace\"><span style=\"font-weight: bold\">Model: \"functional_1\"</span>\n",
       "</pre>\n"
      ],
      "text/plain": [
       "\u001b[1mModel: \"functional_1\"\u001b[0m\n"
      ]
     },
     "metadata": {},
     "output_type": "display_data"
    },
    {
     "data": {
      "text/html": [
       "<pre style=\"white-space:pre;overflow-x:auto;line-height:normal;font-family:Menlo,'DejaVu Sans Mono',consolas,'Courier New',monospace\">┏━━━━━━━━━━━━━━━━━━━━━┳━━━━━━━━━━━━━━━━━━━┳━━━━━━━━━━━━┳━━━━━━━━━━━━━━━━━━━┓\n",
       "┃<span style=\"font-weight: bold\"> Layer (type)        </span>┃<span style=\"font-weight: bold\"> Output Shape      </span>┃<span style=\"font-weight: bold\">    Param # </span>┃<span style=\"font-weight: bold\"> Connected to      </span>┃\n",
       "┡━━━━━━━━━━━━━━━━━━━━━╇━━━━━━━━━━━━━━━━━━━╇━━━━━━━━━━━━╇━━━━━━━━━━━━━━━━━━━┩\n",
       "│ input_layer_1       │ (<span style=\"color: #00d7ff; text-decoration-color: #00d7ff\">None</span>, <span style=\"color: #00af00; text-decoration-color: #00af00\">12</span>)        │          <span style=\"color: #00af00; text-decoration-color: #00af00\">0</span> │ -                 │\n",
       "│ (<span style=\"color: #0087ff; text-decoration-color: #0087ff\">InputLayer</span>)        │                   │            │                   │\n",
       "├─────────────────────┼───────────────────┼────────────┼───────────────────┤\n",
       "│ dense_4 (<span style=\"color: #0087ff; text-decoration-color: #0087ff\">Dense</span>)     │ (<span style=\"color: #00d7ff; text-decoration-color: #00d7ff\">None</span>, <span style=\"color: #00af00; text-decoration-color: #00af00\">224</span>)       │      <span style=\"color: #00af00; text-decoration-color: #00af00\">2,912</span> │ input_layer_1[<span style=\"color: #00af00; text-decoration-color: #00af00\">0</span>]… │\n",
       "├─────────────────────┼───────────────────┼────────────┼───────────────────┤\n",
       "│ dense_5 (<span style=\"color: #0087ff; text-decoration-color: #0087ff\">Dense</span>)     │ (<span style=\"color: #00d7ff; text-decoration-color: #00d7ff\">None</span>, <span style=\"color: #00af00; text-decoration-color: #00af00\">128</span>)       │     <span style=\"color: #00af00; text-decoration-color: #00af00\">28,800</span> │ dense_4[<span style=\"color: #00af00; text-decoration-color: #00af00\">0</span>][<span style=\"color: #00af00; text-decoration-color: #00af00\">0</span>]     │\n",
       "├─────────────────────┼───────────────────┼────────────┼───────────────────┤\n",
       "│ dense_6 (<span style=\"color: #0087ff; text-decoration-color: #0087ff\">Dense</span>)     │ (<span style=\"color: #00d7ff; text-decoration-color: #00d7ff\">None</span>, <span style=\"color: #00af00; text-decoration-color: #00af00\">256</span>)       │     <span style=\"color: #00af00; text-decoration-color: #00af00\">33,024</span> │ dense_5[<span style=\"color: #00af00; text-decoration-color: #00af00\">0</span>][<span style=\"color: #00af00; text-decoration-color: #00af00\">0</span>]     │\n",
       "├─────────────────────┼───────────────────┼────────────┼───────────────────┤\n",
       "│ presence (<span style=\"color: #0087ff; text-decoration-color: #0087ff\">Dense</span>)    │ (<span style=\"color: #00d7ff; text-decoration-color: #00d7ff\">None</span>, <span style=\"color: #00af00; text-decoration-color: #00af00\">2069</span>)      │    <span style=\"color: #00af00; text-decoration-color: #00af00\">531,733</span> │ dense_6[<span style=\"color: #00af00; text-decoration-color: #00af00\">0</span>][<span style=\"color: #00af00; text-decoration-color: #00af00\">0</span>]     │\n",
       "├─────────────────────┼───────────────────┼────────────┼───────────────────┤\n",
       "│ water (<span style=\"color: #0087ff; text-decoration-color: #0087ff\">Dense</span>)       │ (<span style=\"color: #00d7ff; text-decoration-color: #00d7ff\">None</span>, <span style=\"color: #00af00; text-decoration-color: #00af00\">2069</span>)      │    <span style=\"color: #00af00; text-decoration-color: #00af00\">531,733</span> │ dense_6[<span style=\"color: #00af00; text-decoration-color: #00af00\">0</span>][<span style=\"color: #00af00; text-decoration-color: #00af00\">0</span>]     │\n",
       "└─────────────────────┴───────────────────┴────────────┴───────────────────┘\n",
       "</pre>\n"
      ],
      "text/plain": [
       "┏━━━━━━━━━━━━━━━━━━━━━┳━━━━━━━━━━━━━━━━━━━┳━━━━━━━━━━━━┳━━━━━━━━━━━━━━━━━━━┓\n",
       "┃\u001b[1m \u001b[0m\u001b[1mLayer (type)       \u001b[0m\u001b[1m \u001b[0m┃\u001b[1m \u001b[0m\u001b[1mOutput Shape     \u001b[0m\u001b[1m \u001b[0m┃\u001b[1m \u001b[0m\u001b[1m   Param #\u001b[0m\u001b[1m \u001b[0m┃\u001b[1m \u001b[0m\u001b[1mConnected to     \u001b[0m\u001b[1m \u001b[0m┃\n",
       "┡━━━━━━━━━━━━━━━━━━━━━╇━━━━━━━━━━━━━━━━━━━╇━━━━━━━━━━━━╇━━━━━━━━━━━━━━━━━━━┩\n",
       "│ input_layer_1       │ (\u001b[38;5;45mNone\u001b[0m, \u001b[38;5;34m12\u001b[0m)        │          \u001b[38;5;34m0\u001b[0m │ -                 │\n",
       "│ (\u001b[38;5;33mInputLayer\u001b[0m)        │                   │            │                   │\n",
       "├─────────────────────┼───────────────────┼────────────┼───────────────────┤\n",
       "│ dense_4 (\u001b[38;5;33mDense\u001b[0m)     │ (\u001b[38;5;45mNone\u001b[0m, \u001b[38;5;34m224\u001b[0m)       │      \u001b[38;5;34m2,912\u001b[0m │ input_layer_1[\u001b[38;5;34m0\u001b[0m]… │\n",
       "├─────────────────────┼───────────────────┼────────────┼───────────────────┤\n",
       "│ dense_5 (\u001b[38;5;33mDense\u001b[0m)     │ (\u001b[38;5;45mNone\u001b[0m, \u001b[38;5;34m128\u001b[0m)       │     \u001b[38;5;34m28,800\u001b[0m │ dense_4[\u001b[38;5;34m0\u001b[0m][\u001b[38;5;34m0\u001b[0m]     │\n",
       "├─────────────────────┼───────────────────┼────────────┼───────────────────┤\n",
       "│ dense_6 (\u001b[38;5;33mDense\u001b[0m)     │ (\u001b[38;5;45mNone\u001b[0m, \u001b[38;5;34m256\u001b[0m)       │     \u001b[38;5;34m33,024\u001b[0m │ dense_5[\u001b[38;5;34m0\u001b[0m][\u001b[38;5;34m0\u001b[0m]     │\n",
       "├─────────────────────┼───────────────────┼────────────┼───────────────────┤\n",
       "│ presence (\u001b[38;5;33mDense\u001b[0m)    │ (\u001b[38;5;45mNone\u001b[0m, \u001b[38;5;34m2069\u001b[0m)      │    \u001b[38;5;34m531,733\u001b[0m │ dense_6[\u001b[38;5;34m0\u001b[0m][\u001b[38;5;34m0\u001b[0m]     │\n",
       "├─────────────────────┼───────────────────┼────────────┼───────────────────┤\n",
       "│ water (\u001b[38;5;33mDense\u001b[0m)       │ (\u001b[38;5;45mNone\u001b[0m, \u001b[38;5;34m2069\u001b[0m)      │    \u001b[38;5;34m531,733\u001b[0m │ dense_6[\u001b[38;5;34m0\u001b[0m][\u001b[38;5;34m0\u001b[0m]     │\n",
       "└─────────────────────┴───────────────────┴────────────┴───────────────────┘\n"
      ]
     },
     "metadata": {},
     "output_type": "display_data"
    },
    {
     "data": {
      "text/html": [
       "<pre style=\"white-space:pre;overflow-x:auto;line-height:normal;font-family:Menlo,'DejaVu Sans Mono',consolas,'Courier New',monospace\"><span style=\"font-weight: bold\"> Total params: </span><span style=\"color: #00af00; text-decoration-color: #00af00\">1,128,202</span> (4.30 MB)\n",
       "</pre>\n"
      ],
      "text/plain": [
       "\u001b[1m Total params: \u001b[0m\u001b[38;5;34m1,128,202\u001b[0m (4.30 MB)\n"
      ]
     },
     "metadata": {},
     "output_type": "display_data"
    },
    {
     "data": {
      "text/html": [
       "<pre style=\"white-space:pre;overflow-x:auto;line-height:normal;font-family:Menlo,'DejaVu Sans Mono',consolas,'Courier New',monospace\"><span style=\"font-weight: bold\"> Trainable params: </span><span style=\"color: #00af00; text-decoration-color: #00af00\">1,128,202</span> (4.30 MB)\n",
       "</pre>\n"
      ],
      "text/plain": [
       "\u001b[1m Trainable params: \u001b[0m\u001b[38;5;34m1,128,202\u001b[0m (4.30 MB)\n"
      ]
     },
     "metadata": {},
     "output_type": "display_data"
    },
    {
     "data": {
      "text/html": [
       "<pre style=\"white-space:pre;overflow-x:auto;line-height:normal;font-family:Menlo,'DejaVu Sans Mono',consolas,'Courier New',monospace\"><span style=\"font-weight: bold\"> Non-trainable params: </span><span style=\"color: #00af00; text-decoration-color: #00af00\">0</span> (0.00 B)\n",
       "</pre>\n"
      ],
      "text/plain": [
       "\u001b[1m Non-trainable params: \u001b[0m\u001b[38;5;34m0\u001b[0m (0.00 B)\n"
      ]
     },
     "metadata": {},
     "output_type": "display_data"
    }
   ],
   "source": [
    "best_model.summary()"
   ]
  },
  {
   "cell_type": "code",
   "execution_count": null,
   "metadata": {
    "editable": true,
    "slideshow": {
     "slide_type": ""
    },
    "tags": []
   },
   "outputs": [
    {
     "data": {
      "application/vnd.jupyter.widget-view+json": {
       "model_id": "570c8c7eb808424794d8c961bcdc215f",
       "version_major": 2,
       "version_minor": 0
      },
      "text/plain": [
       "0epoch [00:00, ?epoch/s]"
      ]
     },
     "metadata": {},
     "output_type": "display_data"
    },
    {
     "data": {
      "application/vnd.jupyter.widget-view+json": {
       "model_id": "5bbddcefc8df4466ac59b8906b22e5c7",
       "version_major": 2,
       "version_minor": 0
      },
      "text/plain": [
       "0batch [00:00, ?batch/s]"
      ]
     },
     "metadata": {},
     "output_type": "display_data"
    }
   ],
   "source": [
    "stop_early = keras.callbacks.EarlyStopping(monitor='val_presence_accuracy', mode='max', patience=2000)\n",
    "\n",
    "train_dataset = (tf.data.Dataset.from_tensor_slices((x_train, {'presence': y_train_wpresence, 'water': y_train}))\n",
    "                 .shuffle(buffer_size=len(x_train))\n",
    "                 .cache()\n",
    "                 .batch(32)\n",
    "                 .prefetch(tf.data.AUTOTUNE))\n",
    "\n",
    "val_dataset = (tf.data.Dataset.from_tensor_slices((x_val, {'presence': y_val_wpresence, 'water': y_val}))\n",
    "               .cache()\n",
    "               .batch(32)\n",
    "               .prefetch(tf.data.AUTOTUNE))\n",
    "\n",
    "history = best_model.fit(\n",
    "    train_dataset,\n",
    "    epochs=10000,\n",
    "    verbose=0,\n",
    "    validation_data=val_dataset,\n",
    "    callbacks=[TqdmCallback(verbose=1), stop_early]\n",
    ")\n"
   ]
  },
  {
   "cell_type": "code",
   "execution_count": null,
   "metadata": {},
   "outputs": [],
   "source": [
    "plt.figure()\n",
    "plt.plot(history.epoch, history.history['presence_accuracy'], label='Training')\n",
    "plt.plot(history.epoch, history.history['val_presence_accuracy'], label='Validation')\n",
    "plt.ylabel('Water Presence Accuracy')\n",
    "plt.legend()\n",
    "\n",
    "plt.figure()\n",
    "plt.plot(history.epoch, history.history['water_loss'], label='Training')\n",
    "plt.plot(history.epoch, history.history['val_water_loss'], label='Validation')\n",
    "plt.ylabel('Water Content Loss')\n",
    "plt.legend()"
   ]
  },
  {
   "cell_type": "code",
   "execution_count": null,
   "metadata": {},
   "outputs": [],
   "source": [
    "# save model:\n",
    "best_model.save('/pscratch/sd/a/arthurhu/BOSS_PPE/models/multioutput_' + proj_name + '.keras')"
   ]
  },
  {
   "cell_type": "markdown",
   "metadata": {},
   "source": [
    "## validation"
   ]
  },
  {
   "cell_type": "code",
   "execution_count": null,
   "metadata": {},
   "outputs": [],
   "source": [
    "# best_model = tf.keras.models.load_model('models/multioutput_try28_condcoll_fullmom_nopartition_asinh.keras', compile=False)\n",
    "plt.plot(best_model(x_val)[1][:, 0])\n",
    "# cc_model(x_val)[1]"
   ]
  },
  {
   "cell_type": "code",
   "execution_count": null,
   "metadata": {},
   "outputs": [],
   "source": [
    "plt.plot(y_val[:,0])"
   ]
  },
  {
   "cell_type": "code",
   "execution_count": null,
   "metadata": {},
   "outputs": [],
   "source": [
    "y_pred = standscale.inverse_transform(best_model(x_val)[1].numpy())\n",
    "# y_pred = model(x_val)\n",
    "plt.plot(y_pred[:,0])"
   ]
  },
  {
   "cell_type": "code",
   "execution_count": null,
   "metadata": {},
   "outputs": [],
   "source": [
    "standscale.inverse_transform(y_train)"
   ]
  },
  {
   "cell_type": "code",
   "execution_count": null,
   "metadata": {},
   "outputs": [],
   "source": [
    "np.mean(y_pred[:, 0]), np.mean(standscale.inverse_transform(y_train)[:, 0])"
   ]
  },
  {
   "cell_type": "code",
   "execution_count": null,
   "metadata": {},
   "outputs": [],
   "source": [
    "y_pred.shape"
   ]
  },
  {
   "cell_type": "code",
   "execution_count": null,
   "metadata": {},
   "outputs": [],
   "source": [
    "y_pred = standscale.inverse_transform(best_model(x_val)[1].numpy())\n",
    "# y_pred = standscale.inverse_transform(model(x_val).numpy())\n",
    "# y_pred = np.exp(standscale.inverse_transform(model(x_val).numpy()))\n",
    "y_val_lin = standscale.inverse_transform(y_val)\n",
    "# y_train_lin = np.exp(standscale.inverse_transform(y_train))\n",
    "\n",
    "fig = plt.figure(figsize=(14,14))\n",
    "gs = gridspec.GridSpec(1,4)\n",
    "for i in range(len(eff0)):\n",
    "    ax = fig.add_subplot(gs[i])\n",
    "    ax.set_aspect('equal')\n",
    "    plt.scatter(y_val_lin[:,i], y_pred[:,i], alpha=0.05,c='k')\n",
    "    # plt.scatter(ppe_sim_valid['vals'][:,i], y_pred[:,i],alpha=0.2,c='k')\n",
    "    # plt.scatter(y_val[:,i], y_pred[:,i],alpha=0.2,c='k')\n",
    "    plt.title(ppe_sim_train['var_names'][i])\n",
    "    ax_min = min(list(ax.get_ylim() + ax.get_xlim()))\n",
    "    ax_max = max(list(ax.get_ylim() + ax.get_xlim()))\n",
    "    plt.plot([ax_min, ax_max], [ax_min, ax_max])\n",
    "    # ax.set_xscale('log')\n",
    "    # ax.set_yscale('log')\n",
    "# fig.tight_layout()\n",
    "# plt.savefig(plot_dir + proj_name + '.png')"
   ]
  },
  {
   "cell_type": "code",
   "execution_count": null,
   "metadata": {},
   "outputs": [],
   "source": []
  }
 ],
 "metadata": {
  "kernelspec": {
   "display_name": "PPE_env",
   "language": "python",
   "name": "boss_ppe"
  },
  "language_info": {
   "codemirror_mode": {
    "name": "ipython",
    "version": 3
   },
   "file_extension": ".py",
   "mimetype": "text/x-python",
   "name": "python",
   "nbconvert_exporter": "python",
   "pygments_lexer": "ipython3",
   "version": "3.12.10"
  }
 },
 "nbformat": 4,
 "nbformat_minor": 4
}
