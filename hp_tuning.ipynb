{
 "cells": [
  {
   "cell_type": "markdown",
   "metadata": {},
   "source": [
    "# setup"
   ]
  },
  {
   "cell_type": "code",
   "execution_count": 2,
   "metadata": {},
   "outputs": [],
   "source": [
    "import os\n",
    "# os.environ[\"CUDA_VISIBLE_DEVICES\"] = \"MIG-b5356651-0d8e-5cd1-bdf3-ccbb8b221031\"\n",
    "\n",
    "import tensorflow as tf\n",
    "from tensorflow import keras\n",
    "import keras_tuner as kt\n",
    "import matplotlib.pyplot as plt\n",
    "import matplotlib.gridspec as gridspec\n",
    "import tuning_fun as tu\n",
    "import emulator_fun as ef\n",
    "import numpy as np\n",
    "from tqdm.keras import TqdmCallback\n",
    "import pandas as pd\n",
    "import time\n",
    "import netCDF4 as nc\n",
    "\n",
    "gpus = tf.config.list_physical_devices('GPU')\n",
    "if gpus:\n",
    "    try:\n",
    "        for gpu in gpus:\n",
    "            tf.config.experimental.set_memory_growth(gpu, True)\n",
    "    except RuntimeError as e:\n",
    "        print(e)\n",
    "\n",
    "# if gpus:\n",
    "#     try:\n",
    "#         tf.config.experimental.set_virtual_device_configuration(\n",
    "#             gpus[0],\n",
    "#             [tf.config.experimental.VirtualDeviceConfiguration(memory_limit=10240)]  # in MB\n",
    "#         )\n",
    "#     except RuntimeError as e:\n",
    "#         print(e)"
   ]
  },
  {
   "cell_type": "markdown",
   "metadata": {},
   "source": [
    "# HP tuning"
   ]
  },
  {
   "cell_type": "markdown",
   "metadata": {},
   "source": [
    "## pre-processing"
   ]
  },
  {
   "cell_type": "code",
   "execution_count": 3,
   "metadata": {},
   "outputs": [],
   "source": [
    "case_name = 'condevp_withcoal_content'\n",
    "base_path = '/Users/arthurhu/github/BOSS_PPE/summary_ncs/'\n",
    "filename = case_name + '.nc'\n",
    "\n",
    "param_all_idx = np.arange(40)\n",
    "# REVIEW: check every time if this is true ... not sure how to implement this programatically\n",
    "# param_interest_idx = np.arange(16,28)\n",
    "# param_interest_idx = np.arange(28,40)\n",
    "param_interest_idx = np.arange(0,28)\n",
    "# param_interest_idx = np.arange(12)\n",
    "# param_interest_idx = np.concatenate((np.arange(0,8), np.arange(16,28)))\n",
    "param_not_int_idx = [i for i in param_all_idx if i not in param_interest_idx]\n",
    "\n",
    "param_train = ef.get_params(base_path, filename, param_interest_idx)"
   ]
  },
  {
   "cell_type": "code",
   "execution_count": 4,
   "metadata": {},
   "outputs": [],
   "source": [
    "nppe, npar = param_train['vals'].shape"
   ]
  },
  {
   "cell_type": "code",
   "execution_count": 5,
   "metadata": {},
   "outputs": [],
   "source": [
    "dataset = nc.Dataset(base_path + filename, mode='r')"
   ]
  },
  {
   "cell_type": "code",
   "execution_count": 6,
   "metadata": {},
   "outputs": [],
   "source": [
    "eff0s = getattr(dataset, 'thresholds_eff0')\n",
    "var_constraints = getattr(dataset, 'var_constraints')\n",
    "ppe_var_names = ['boss_' + i for i in var_constraints]\n",
    "ppe_raw_vals = [dataset.variables[i][:] for i in ppe_var_names]\n",
    "tgt_var_names = ['bin_' + i for i in var_constraints]\n",
    "tgt_raw_vals = [dataset.variables[i][:] for i in tgt_var_names]"
   ]
  },
  {
   "cell_type": "code",
   "execution_count": 7,
   "metadata": {},
   "outputs": [],
   "source": [
    "nobs = int(sum([ppe_raw_vals[i].size for i in range(len(var_constraints))])/nppe)"
   ]
  },
  {
   "cell_type": "code",
   "execution_count": 8,
   "metadata": {},
   "outputs": [],
   "source": [
    "ppe_var_presence = ppe_asinh = ppe_all = np.empty((nppe,0), dtype=np.float32)\n",
    "ncases = tgt_raw_vals[0].shape[0]\n",
    "tgt_var_presence = tgt_asinh = tgt_all = np.empty((ncases,0), dtype=np.float32)\n",
    "\n",
    "for idx, eff0 in enumerate(eff0s):\n",
    "    if ppe_raw_vals[idx].ndim >= 2:\n",
    "        ppe_raw_val_reshaped = np.reshape(ppe_raw_vals[idx], (nppe, np.product(ppe_raw_vals[idx].shape[1:])))\n",
    "        tgt_raw_val_reshaped = np.reshape(tgt_raw_vals[idx], (ncases, np.product(tgt_raw_vals[idx].shape[1:])))\n",
    "    else:\n",
    "        ppe_raw_val_reshaped = ppe_raw_vals[idx].reshape(-1, 1)\n",
    "        tgt_raw_val_reshaped = tgt_raw_vals[idx].reshape(-1, 1)\n",
    "    ppe_var_presence = np.concatenate((ppe_var_presence, ppe_raw_val_reshaped > eff0s[idx]/100), axis=1)\n",
    "    ppe_asinh_reshaped = ef.smooth_linlog(ppe_raw_val_reshaped, eff0)\n",
    "    ppe_asinh = np.concatenate((ppe_asinh, ppe_asinh_reshaped), axis=1)\n",
    "    tgt_var_presence = np.concatenate((tgt_var_presence, tgt_raw_val_reshaped > eff0s[idx]/100), axis=1)\n",
    "    tgt_asinh_reshaped = ef.smooth_linlog(tgt_raw_val_reshaped, eff0)\n",
    "    tgt_asinh = np.concatenate((tgt_asinh, tgt_asinh_reshaped), axis=1)\n"
   ]
  },
  {
   "cell_type": "code",
   "execution_count": 9,
   "metadata": {},
   "outputs": [],
   "source": [
    "from sklearn import preprocessing\n",
    "import sklearn.model_selection as mod_sec\n",
    "\n",
    "minmaxscale = preprocessing.MinMaxScaler().fit(param_train['vals'])\n",
    "x_all = minmaxscale.transform(param_train['vals'])\n",
    "\n",
    "standscale = preprocessing.StandardScaler().fit(ppe_asinh)\n",
    "ppe_all = standscale.transform(ppe_asinh)\n",
    "tgt_all = standscale.transform(tgt_asinh)"
   ]
  },
  {
   "cell_type": "code",
   "execution_count": 10,
   "metadata": {},
   "outputs": [],
   "source": [
    "x_train, x_val, y_train_wpresence, y_val_wpresence = mod_sec.train_test_split(x_all, ppe_var_presence, test_size=0.2, random_state=1)\n",
    "_, _, y_train, y_val = mod_sec.train_test_split(x_all, ppe_all, test_size=0.2, random_state=1)\n",
    "\n",
    "y_train = np.nan_to_num(y_train, nan=-1001)\n",
    "y_val = np.nan_to_num(y_val, nan=-1001)"
   ]
  },
  {
   "cell_type": "code",
   "execution_count": 11,
   "metadata": {},
   "outputs": [
    {
     "data": {
      "text/plain": [
       "(array([5.759e+04, 0.000e+00, 0.000e+00, 0.000e+00, 0.000e+00, 0.000e+00,\n",
       "        0.000e+00, 0.000e+00, 1.000e+00, 0.000e+00, 0.000e+00, 0.000e+00,\n",
       "        0.000e+00, 0.000e+00, 0.000e+00, 0.000e+00, 0.000e+00, 0.000e+00,\n",
       "        0.000e+00, 0.000e+00, 0.000e+00, 0.000e+00, 0.000e+00, 0.000e+00,\n",
       "        0.000e+00, 0.000e+00, 0.000e+00, 0.000e+00, 0.000e+00, 0.000e+00,\n",
       "        0.000e+00, 0.000e+00, 0.000e+00, 1.000e+00, 0.000e+00, 0.000e+00,\n",
       "        0.000e+00, 0.000e+00, 0.000e+00, 0.000e+00, 0.000e+00, 0.000e+00,\n",
       "        0.000e+00, 0.000e+00, 0.000e+00, 0.000e+00, 0.000e+00, 0.000e+00,\n",
       "        0.000e+00, 0.000e+00, 0.000e+00, 0.000e+00, 0.000e+00, 0.000e+00,\n",
       "        0.000e+00, 0.000e+00, 0.000e+00, 0.000e+00, 0.000e+00, 0.000e+00,\n",
       "        0.000e+00, 0.000e+00, 0.000e+00, 0.000e+00, 0.000e+00, 0.000e+00,\n",
       "        0.000e+00, 0.000e+00, 0.000e+00, 0.000e+00, 0.000e+00, 0.000e+00,\n",
       "        0.000e+00, 0.000e+00, 0.000e+00, 0.000e+00, 0.000e+00, 0.000e+00,\n",
       "        0.000e+00, 0.000e+00, 1.000e+00, 3.000e+00, 0.000e+00, 0.000e+00,\n",
       "        0.000e+00, 0.000e+00, 0.000e+00, 0.000e+00, 0.000e+00, 0.000e+00,\n",
       "        0.000e+00, 0.000e+00, 0.000e+00, 0.000e+00, 0.000e+00, 0.000e+00,\n",
       "        0.000e+00, 0.000e+00, 0.000e+00, 4.000e+00]),\n",
       " array([-4.51272923e+00,  2.58779599e+93,  5.17559199e+93,  7.76338798e+93,\n",
       "         1.03511840e+94,  1.29389800e+94,  1.55267760e+94,  1.81145720e+94,\n",
       "         2.07023679e+94,  2.32901639e+94,  2.58779599e+94,  2.84657559e+94,\n",
       "         3.10535519e+94,  3.36413479e+94,  3.62291439e+94,  3.88169399e+94,\n",
       "         4.14047359e+94,  4.39925319e+94,  4.65803279e+94,  4.91681239e+94,\n",
       "         5.17559199e+94,  5.43437159e+94,  5.69315119e+94,  5.95193079e+94,\n",
       "         6.21071038e+94,  6.46948998e+94,  6.72826958e+94,  6.98704918e+94,\n",
       "         7.24582878e+94,  7.50460838e+94,  7.76338798e+94,  8.02216758e+94,\n",
       "         8.28094718e+94,  8.53972678e+94,  8.79850638e+94,  9.05728598e+94,\n",
       "         9.31606558e+94,  9.57484518e+94,  9.83362478e+94,  1.00924044e+95,\n",
       "         1.03511840e+95,  1.06099636e+95,  1.08687432e+95,  1.11275228e+95,\n",
       "         1.13863024e+95,  1.16450820e+95,  1.19038616e+95,  1.21626412e+95,\n",
       "         1.24214208e+95,  1.26802004e+95,  1.29389800e+95,  1.31977596e+95,\n",
       "         1.34565392e+95,  1.37153188e+95,  1.39740984e+95,  1.42328780e+95,\n",
       "         1.44916576e+95,  1.47504372e+95,  1.50092168e+95,  1.52679964e+95,\n",
       "         1.55267760e+95,  1.57855556e+95,  1.60443352e+95,  1.63031148e+95,\n",
       "         1.65618944e+95,  1.68206740e+95,  1.70794536e+95,  1.73382332e+95,\n",
       "         1.75970128e+95,  1.78557924e+95,  1.81145720e+95,  1.83733516e+95,\n",
       "         1.86321312e+95,  1.88909108e+95,  1.91496904e+95,  1.94084700e+95,\n",
       "         1.96672496e+95,  1.99260292e+95,  2.01848087e+95,  2.04435883e+95,\n",
       "         2.07023679e+95,  2.09611475e+95,  2.12199271e+95,  2.14787067e+95,\n",
       "         2.17374863e+95,  2.19962659e+95,  2.22550455e+95,  2.25138251e+95,\n",
       "         2.27726047e+95,  2.30313843e+95,  2.32901639e+95,  2.35489435e+95,\n",
       "         2.38077231e+95,  2.40665027e+95,  2.43252823e+95,  2.45840619e+95,\n",
       "         2.48428415e+95,  2.51016211e+95,  2.53604007e+95,  2.56191803e+95,\n",
       "         2.58779599e+95]),\n",
       " <BarContainer object of 100 artists>)"
      ]
     },
     "execution_count": 11,
     "metadata": {},
     "output_type": "execute_result"
    },
    {
     "data": {
      "image/png": "[encoded data removed]",
      "text/plain": [
       "<Figure size 640x480 with 1 Axes>"
      ]
     },
     "metadata": {},
     "output_type": "display_data"
    },
    {
     "data": {
      "image/png": "[encoded data removed]",
      "text/plain": [
       "<Figure size 640x480 with 1 Axes>"
      ]
     },
     "metadata": {},
     "output_type": "display_data"
    }
   ],
   "source": [
    "# np.sum(ppe_sim_train['vals'] > y_thresholds)\n",
    "# test = np.log10(tgt_sim['vals'][0,7204:10804])\n",
    "# test_finite = test[np.isfinite(test)]\n",
    "a = 0\n",
    "# ytrue = tgt_sim['vals'][:,a+6:a+3606]\n",
    "# ytrue[~np.isfinite(ytrue)] = np.nan\n",
    "# plt.hist(ytrue.flatten())\n",
    "# plt.figure()\n",
    "# plt.hist(y_all[:,5:65].flatten(), bins=100)\n",
    "# plt.figure()\n",
    "# plt.hist(tgt_all[:,5:65].flatten(), bins=100)\n",
    "\n",
    "plt.hist(ppe_all[:,a+4:a+3604].flatten(), bins=100)\n",
    "plt.figure()\n",
    "plt.hist(tgt_all[:,a+4:a+3604].flatten(), bins=100)"
   ]
  },
  {
   "cell_type": "code",
   "execution_count": 12,
   "metadata": {},
   "outputs": [
    {
     "data": {
      "text/plain": [
       "9.018646353519051e+79"
      ]
     },
     "execution_count": 12,
     "metadata": {},
     "output_type": "execute_result"
    }
   ],
   "source": [
    "np.mean(tgt_all[0,a+4:a+3604])"
   ]
  },
  {
   "cell_type": "markdown",
   "metadata": {},
   "source": [
    "## separate class/reg training"
   ]
  },
  {
   "cell_type": "markdown",
   "metadata": {},
   "source": [
    "### classifier"
   ]
  },
  {
   "cell_type": "code",
   "execution_count": null,
   "metadata": {},
   "outputs": [],
   "source": [
    "proj_name = 'class_try2_stopearly'\n",
    "\n",
    "tuner_classifier = kt.RandomSearch(\n",
    "    lambda hp: tu.build_classifier_model(hp, npar, nobs),\n",
    "    objective='val_accuracy',\n",
    "    max_trials=20,\n",
    "    directory='hp_tuning_withclass/separate_models',\n",
    "    project_name=proj_name\n",
    ")\n",
    "\n",
    "stop_early = keras.callbacks.EarlyStopping(monitor='val_accuracy', patience=5)\n",
    "\n",
    "tuner_classifier.search(x_train, y_train_wpresence,\n",
    "                          epochs=50,\n",
    "                          validation_data=(x_val, y_val_wpresence),\n",
    "                          callbacks=[stop_early])\n",
    "best_classifier = tuner_classifier.get_best_models(num_models=1)[0]"
   ]
  },
  {
   "cell_type": "code",
   "execution_count": null,
   "metadata": {},
   "outputs": [],
   "source": [
    "best_hps = tuner_classifier.get_best_hyperparameters(num_trials=1)[0]\n",
    "print(best_hps.values)"
   ]
  },
  {
   "cell_type": "code",
   "execution_count": null,
   "metadata": {},
   "outputs": [],
   "source": [
    "# Extract trial information\n",
    "trial_ids = []\n",
    "val_losses = []\n",
    "for trial_id, trial in tuner_classifier.oracle.trials.items():\n",
    "    # Ensure there's a recorded validation loss\n",
    "    val_loss = trial.metrics.get_last_value('val_accuracy')\n",
    "    if val_loss is not None:\n",
    "        trial_ids.append(int(trial_id))\n",
    "        val_losses.append(val_loss)\n",
    "\n",
    "# Plot validation loss vs. trial number\n",
    "plt.figure(figsize=(8, 4))\n",
    "plt.scatter(trial_ids, val_losses)\n",
    "plt.xlabel(\"Trial Number\")\n",
    "plt.ylabel(\"Validation Accuracy\")\n",
    "plt.title(\"Hyperparameter Tuning Performance\")\n",
    "plt.show()\n"
   ]
  },
  {
   "cell_type": "code",
   "execution_count": null,
   "metadata": {},
   "outputs": [],
   "source": [
    "class PrintDot(keras.callbacks.Callback):\n",
    "    def on_epoch_end(self, epoch, logs):\n",
    "        if epoch % 100 == 0: print('')\n",
    "        print('.', end='')\n",
    "\n",
    "stop_early = keras.callbacks.EarlyStopping(monitor='val_loss', patience=10)\n",
    "\n",
    "history = best_classifier.fit(x_train, y_train_wpresence,\n",
    "                    epochs=1000,\n",
    "                    validation_data=(x_val, y_val_wpresence),\n",
    "                    verbose=0,\n",
    "                    callbacks=[stop_early, TqdmCallback(verbose=1)])\n",
    "\n",
    "# ef.clear_gpu_memory()"
   ]
  },
  {
   "cell_type": "code",
   "execution_count": null,
   "metadata": {},
   "outputs": [],
   "source": [
    "plt.plot(history.epoch, history.history['accuracy'])\n",
    "plt.plot(history.epoch, history.history['val_accuracy'])"
   ]
  },
  {
   "cell_type": "code",
   "execution_count": null,
   "metadata": {},
   "outputs": [],
   "source": [
    "wpresence_mask = y_train_wpresence == 1\n",
    "print(wpresence_mask)"
   ]
  },
  {
   "cell_type": "code",
   "execution_count": null,
   "metadata": {},
   "outputs": [],
   "source": [
    "x_train.shape"
   ]
  },
  {
   "cell_type": "markdown",
   "metadata": {},
   "source": [
    "### regressor"
   ]
  },
  {
   "cell_type": "markdown",
   "metadata": {},
   "source": [
    "## multi-output model"
   ]
  },
  {
   "cell_type": "code",
   "execution_count": null,
   "metadata": {},
   "outputs": [
    {
     "name": "stdout",
     "output_type": "stream",
     "text": [
      "\n",
      "Search: Running Trial #1\n",
      "\n",
      "Value             |Best Value So Far |Hyperparameter\n",
      "4                 |4                 |num_shared_layers\n",
      "128               |128               |units_0\n",
      "adam              |adam              |optimizer\n",
      "2.9417e-05        |2.9417e-05        |adam_lr\n",
      "\n",
      "Epoch 1/50\n",
      "\u001b[1m250/250\u001b[0m \u001b[32m━━━━━━━━━━━━━━━━━━━━\u001b[0m\u001b[37m\u001b[0m \u001b[1m5s\u001b[0m 14ms/step - loss: 1.3201 - presence_accuracy: 0.0000e+00 - presence_loss: 0.6775 - water_loss: 0.6427 - water_mae: 0.4200 - val_loss: 1.1769 - val_presence_accuracy: 0.0000e+00 - val_presence_loss: 0.5829 - val_water_loss: 0.5929 - val_water_mae: 0.4125\n",
      "Epoch 2/50\n",
      "\u001b[1m250/250\u001b[0m \u001b[32m━━━━━━━━━━━━━━━━━━━━\u001b[0m\u001b[37m\u001b[0m \u001b[1m3s\u001b[0m 13ms/step - loss: 1.1545 - presence_accuracy: 0.0000e+00 - presence_loss: 0.5244 - water_loss: 0.6301 - water_mae: 0.4140 - val_loss: 0.9434 - val_presence_accuracy: 0.0000e+00 - val_presence_loss: 0.3523 - val_water_loss: 0.5900 - val_water_mae: 0.4101\n",
      "Epoch 3/50\n",
      "\u001b[1m250/250\u001b[0m \u001b[32m━━━━━━━━━━━━━━━━━━━━\u001b[0m\u001b[37m\u001b[0m \u001b[1m3s\u001b[0m 13ms/step - loss: 0.9572 - presence_accuracy: 0.0000e+00 - presence_loss: 0.3230 - water_loss: 0.6341 - water_mae: 0.4128 - val_loss: 0.8535 - val_presence_accuracy: 0.0000e+00 - val_presence_loss: 0.2672 - val_water_loss: 0.5852 - val_water_mae: 0.4106\n",
      "Epoch 4/50\n",
      "\u001b[1m250/250\u001b[0m \u001b[32m━━━━━━━━━━━━━━━━━━━━\u001b[0m\u001b[37m\u001b[0m \u001b[1m3s\u001b[0m 13ms/step - loss: 0.8664 - presence_accuracy: 0.0000e+00 - presence_loss: 0.2623 - water_loss: 0.6040 - water_mae: 0.4094 - val_loss: 0.8254 - val_presence_accuracy: 0.0000e+00 - val_presence_loss: 0.2470 - val_water_loss: 0.5772 - val_water_mae: 0.4063\n",
      "Epoch 5/50\n",
      "\u001b[1m250/250\u001b[0m \u001b[32m━━━━━━━━━━━━━━━━━━━━\u001b[0m\u001b[37m\u001b[0m \u001b[1m3s\u001b[0m 13ms/step - loss: 0.8315 - presence_accuracy: 0.0000e+00 - presence_loss: 0.2449 - water_loss: 0.5865 - water_mae: 0.4019 - val_loss: 0.8021 - val_presence_accuracy: 0.0000e+00 - val_presence_loss: 0.2379 - val_water_loss: 0.5630 - val_water_mae: 0.4009\n",
      "Epoch 6/50\n",
      "\u001b[1m250/250\u001b[0m \u001b[32m━━━━━━━━━━━━━━━━━━━━\u001b[0m\u001b[37m\u001b[0m \u001b[1m3s\u001b[0m 13ms/step - loss: 0.8194 - presence_accuracy: 0.0000e+00 - presence_loss: 0.2383 - water_loss: 0.5811 - water_mae: 0.3980 - val_loss: 0.7707 - val_presence_accuracy: 0.0000e+00 - val_presence_loss: 0.2305 - val_water_loss: 0.5391 - val_water_mae: 0.3849\n",
      "Epoch 7/50\n",
      "\u001b[1m250/250\u001b[0m \u001b[32m━━━━━━━━━━━━━━━━━━━━\u001b[0m\u001b[37m\u001b[0m \u001b[1m3s\u001b[0m 13ms/step - loss: 0.7870 - presence_accuracy: 0.0000e+00 - presence_loss: 0.2289 - water_loss: 0.5581 - water_mae: 0.3813 - val_loss: 0.7247 - val_presence_accuracy: 0.0000e+00 - val_presence_loss: 0.2202 - val_water_loss: 0.5035 - val_water_mae: 0.3647\n",
      "Epoch 8/50\n",
      "\u001b[1m250/250\u001b[0m \u001b[32m━━━━━━━━━━━━━━━━━━━━\u001b[0m\u001b[37m\u001b[0m \u001b[1m3s\u001b[0m 13ms/step - loss: 0.7219 - presence_accuracy: 0.0000e+00 - presence_loss: 0.2174 - water_loss: 0.5046 - water_mae: 0.3604 - val_loss: 0.6672 - val_presence_accuracy: 0.0000e+00 - val_presence_loss: 0.2057 - val_water_loss: 0.4606 - val_water_mae: 0.3394\n",
      "Epoch 9/50\n",
      "\u001b[1m250/250\u001b[0m \u001b[32m━━━━━━━━━━━━━━━━━━━━\u001b[0m\u001b[37m\u001b[0m \u001b[1m3s\u001b[0m 13ms/step - loss: 0.7346 - presence_accuracy: 0.0000e+00 - presence_loss: 0.2024 - water_loss: 0.5322 - water_mae: 0.3364 - val_loss: 0.6161 - val_presence_accuracy: 0.0000e+00 - val_presence_loss: 0.1890 - val_water_loss: 0.4264 - val_water_mae: 0.3183\n",
      "Epoch 10/50\n",
      "\u001b[1m250/250\u001b[0m \u001b[32m━━━━━━━━━━━━━━━━━━━━\u001b[0m\u001b[37m\u001b[0m \u001b[1m3s\u001b[0m 13ms/step - loss: 0.6049 - presence_accuracy: 0.0000e+00 - presence_loss: 0.1855 - water_loss: 0.4194 - water_mae: 0.3143 - val_loss: 0.5834 - val_presence_accuracy: 0.0000e+00 - val_presence_loss: 0.1733 - val_water_loss: 0.4095 - val_water_mae: 0.3093\n",
      "Epoch 11/50\n",
      "\u001b[1m250/250\u001b[0m \u001b[32m━━━━━━━━━━━━━━━━━━━━\u001b[0m\u001b[37m\u001b[0m \u001b[1m3s\u001b[0m 13ms/step - loss: 0.5838 - presence_accuracy: 0.0000e+00 - presence_loss: 0.1705 - water_loss: 0.4133 - water_mae: 0.3077 - val_loss: 0.5667 - val_presence_accuracy: 0.0000e+00 - val_presence_loss: 0.1608 - val_water_loss: 0.4054 - val_water_mae: 0.3075\n",
      "Epoch 12/50\n",
      "\u001b[1m250/250\u001b[0m \u001b[32m━━━━━━━━━━━━━━━━━━━━\u001b[0m\u001b[37m\u001b[0m \u001b[1m3s\u001b[0m 13ms/step - loss: 0.5827 - presence_accuracy: 0.0000e+00 - presence_loss: 0.1585 - water_loss: 0.4243 - water_mae: 0.3071 - val_loss: 0.5549 - val_presence_accuracy: 0.0000e+00 - val_presence_loss: 0.1507 - val_water_loss: 0.4036 - val_water_mae: 0.3066\n",
      "Epoch 13/50\n",
      "\u001b[1m250/250\u001b[0m \u001b[32m━━━━━━━━━━━━━━━━━━━━\u001b[0m\u001b[37m\u001b[0m \u001b[1m3s\u001b[0m 14ms/step - loss: 0.5902 - presence_accuracy: 0.0000e+00 - presence_loss: 0.1490 - water_loss: 0.4412 - water_mae: 0.3071 - val_loss: 0.5457 - val_presence_accuracy: 0.0000e+00 - val_presence_loss: 0.1427 - val_water_loss: 0.4025 - val_water_mae: 0.3057\n",
      "Epoch 14/50\n",
      "\u001b[1m250/250\u001b[0m \u001b[32m━━━━━━━━━━━━━━━━━━━━\u001b[0m\u001b[37m\u001b[0m \u001b[1m3s\u001b[0m 14ms/step - loss: 0.5673 - presence_accuracy: 0.0000e+00 - presence_loss: 0.1415 - water_loss: 0.4258 - water_mae: 0.3059 - val_loss: 0.5384 - val_presence_accuracy: 0.0000e+00 - val_presence_loss: 0.1358 - val_water_loss: 0.4021 - val_water_mae: 0.3052\n",
      "Epoch 15/50\n",
      "\u001b[1m246/250\u001b[0m \u001b[32m━━━━━━━━━━━━━━━━━━━\u001b[0m\u001b[37m━\u001b[0m \u001b[1m0s\u001b[0m 12ms/step - loss: 0.5623 - presence_accuracy: 0.0000e+00 - presence_loss: 0.1346 - water_loss: 0.4277 - water_mae: 0.3039"
     ]
    }
   ],
   "source": [
    "proj_name = 'try38_fullmic_M3069'\n",
    "tuner = kt.RandomSearch(\n",
    "    lambda hp: tu.build_classreg_model(hp, npar, nobs),\n",
    "    objective=\"val_loss\",\n",
    "    max_trials=100,\n",
    "    directory='hp_tuning_withclass/multi-output',\n",
    "    project_name=proj_name,\n",
    ")\n",
    "\n",
    "\n",
    "stop_early = keras.callbacks.EarlyStopping(monitor='val_loss', patience=10)\n",
    "\n",
    "tuner.search(\n",
    "    x_train,\n",
    "    {'presence': y_train_wpresence, 'water': y_train},\n",
    "    epochs=50,\n",
    "    validation_data=(x_val, {'presence': y_val_wpresence, 'water': y_val}),\n",
    "    callbacks=([stop_early])\n",
    ")\n",
    "\n",
    "# Retrieve the best hyperparameters and build the best model:\n",
    "best_hp = tuner.get_best_hyperparameters(num_trials=1)[0]\n",
    "best_model = tuner.hypermodel.build(best_hp)\n",
    "\n"
   ]
  },
  {
   "cell_type": "code",
   "execution_count": null,
   "metadata": {},
   "outputs": [],
   "source": [
    "best_model.summary()"
   ]
  },
  {
   "cell_type": "code",
   "execution_count": null,
   "metadata": {},
   "outputs": [],
   "source": [
    "# stop_early = keras.callbacks.EarlyStopping(monitor='val_presence_accuracy', mode='max', patience=2000)\n",
    "\n",
    "train_dataset = (tf.data.Dataset.from_tensor_slices((x_train, {'presence': y_train_wpresence, 'water': y_train}))\n",
    "                 .shuffle(buffer_size=len(x_train))\n",
    "                 .cache()\n",
    "                 .batch(32)\n",
    "                 .prefetch(tf.data.AUTOTUNE))\n",
    "\n",
    "val_dataset = (tf.data.Dataset.from_tensor_slices((x_val, {'presence': y_val_wpresence, 'water': y_val}))\n",
    "               .cache()\n",
    "               .batch(32)\n",
    "               .prefetch(tf.data.AUTOTUNE))\n",
    "\n",
    "history = best_model.fit(\n",
    "    train_dataset,\n",
    "    epochs=15000,\n",
    "    verbose=0,\n",
    "    validation_data=val_dataset,\n",
    "    callbacks=[TqdmCallback(verbose=1)]\n",
    ")\n"
   ]
  },
  {
   "cell_type": "code",
   "execution_count": null,
   "metadata": {},
   "outputs": [],
   "source": [
    "plt.figure()\n",
    "plt.plot(history.epoch, history.history['presence_accuracy'], label='Training')\n",
    "plt.plot(history.epoch, history.history['val_presence_accuracy'], label='Validation')\n",
    "plt.ylabel('Water Presence Accuracy')\n",
    "plt.legend()\n",
    "\n",
    "plt.figure()\n",
    "plt.plot(history.epoch, history.history['water_loss'], label='Training')\n",
    "plt.plot(history.epoch, history.history['val_water_loss'], label='Validation')\n",
    "plt.ylabel('Water Content Loss')\n",
    "plt.legend()"
   ]
  },
  {
   "cell_type": "code",
   "execution_count": null,
   "metadata": {},
   "outputs": [],
   "source": [
    "# save model:\n",
    "best_model.save('models/multioutput_' + proj_name + '.keras')"
   ]
  },
  {
   "cell_type": "markdown",
   "metadata": {},
   "source": [
    "## validation"
   ]
  },
  {
   "cell_type": "code",
   "execution_count": null,
   "metadata": {},
   "outputs": [],
   "source": [
    "# best_model = tf.keras.models.load_model('models/multioutput_try28_condcoll_fullmom_nopartition_asinh.keras', compile=False)\n",
    "plt.plot(best_model(x_val)[1][:, 0])\n",
    "# cc_model(x_val)[1]"
   ]
  },
  {
   "cell_type": "code",
   "execution_count": null,
   "metadata": {},
   "outputs": [],
   "source": [
    "plt.plot(y_val[:,0])"
   ]
  },
  {
   "cell_type": "code",
   "execution_count": null,
   "metadata": {},
   "outputs": [],
   "source": [
    "y_pred = standscale.inverse_transform(best_model(x_val)[1].numpy())\n",
    "# y_pred = model(x_val)\n",
    "plt.plot(y_pred[:,0])"
   ]
  },
  {
   "cell_type": "code",
   "execution_count": null,
   "metadata": {},
   "outputs": [],
   "source": [
    "standscale.inverse_transform(y_train)"
   ]
  },
  {
   "cell_type": "code",
   "execution_count": null,
   "metadata": {},
   "outputs": [],
   "source": [
    "np.mean(y_pred[:, 0]), np.mean(standscale.inverse_transform(y_train)[:, 0])"
   ]
  },
  {
   "cell_type": "code",
   "execution_count": null,
   "metadata": {},
   "outputs": [],
   "source": [
    "y_pred.shape"
   ]
  },
  {
   "cell_type": "code",
   "execution_count": null,
   "metadata": {},
   "outputs": [],
   "source": [
    "y_pred = standscale.inverse_transform(best_model(x_val)[1].numpy())\n",
    "# y_pred = standscale.inverse_transform(model(x_val).numpy())\n",
    "# y_pred = np.exp(standscale.inverse_transform(model(x_val).numpy()))\n",
    "y_val_lin = standscale.inverse_transform(y_val)\n",
    "# y_train_lin = np.exp(standscale.inverse_transform(y_train))\n",
    "\n",
    "fig = plt.figure(figsize=(14,14))\n",
    "gs = gridspec.GridSpec(1,4)\n",
    "for i in range(len(eff0)):\n",
    "    ax = fig.add_subplot(gs[i])\n",
    "    ax.set_aspect('equal')\n",
    "    plt.scatter(y_val_lin[:,i], y_pred[:,i], alpha=0.05,c='k')\n",
    "    # plt.scatter(ppe_sim_valid['vals'][:,i], y_pred[:,i],alpha=0.2,c='k')\n",
    "    # plt.scatter(y_val[:,i], y_pred[:,i],alpha=0.2,c='k')\n",
    "    plt.title(ppe_sim_train['var_names'][i])\n",
    "    ax_min = min(list(ax.get_ylim() + ax.get_xlim()))\n",
    "    ax_max = max(list(ax.get_ylim() + ax.get_xlim()))\n",
    "    plt.plot([ax_min, ax_max], [ax_min, ax_max])\n",
    "    # ax.set_xscale('log')\n",
    "    # ax.set_yscale('log')\n",
    "# fig.tight_layout()\n",
    "# plt.savefig(plot_dir + proj_name + '.png')"
   ]
  },
  {
   "cell_type": "code",
   "execution_count": null,
   "metadata": {},
   "outputs": [],
   "source": []
  }
 ],
 "metadata": {
  "kernelspec": {
   "display_name": ".venv",
   "language": "python",
   "name": "python3"
  },
  "language_info": {
   "codemirror_mode": {
    "name": "ipython",
    "version": 3
   },
   "file_extension": ".py",
   "mimetype": "text/x-python",
   "name": "python",
   "nbconvert_exporter": "python",
   "pygments_lexer": "ipython3",
   "version": "3.10.14"
  }
 },
 "nbformat": 4,
 "nbformat_minor": 2
}
