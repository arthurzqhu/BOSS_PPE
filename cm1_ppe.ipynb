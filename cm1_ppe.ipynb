{
 "cells": [
  {
   "cell_type": "markdown",
   "id": "65076685",
   "metadata": {},
   "source": [
    "# Setup"
   ]
  },
  {
   "cell_type": "code",
   "execution_count": 2,
   "id": "2970d7b9",
   "metadata": {},
   "outputs": [],
   "source": [
    "import cm1_load_utils as cl\n",
    "import load_ppe_fun as lp\n",
    "import numpy as np\n",
    "import matplotlib.pyplot as plt\n",
    "import os\n",
    "from tqdm import tqdm\n",
    "from time import sleep\n",
    "import matplotlib.colors as mcolors\n",
    "from matplotlib.colors import LogNorm\n",
    "import itertools\n",
    "import util_fun as uf"
   ]
  },
  {
   "cell_type": "code",
   "execution_count": 3,
   "id": "9110181b",
   "metadata": {},
   "outputs": [],
   "source": [
    "nikki = ''\n",
    "target_nikki = 'target'\n",
    "sim_config = 'fullmp_ppe_r1_coalsed_flux'\n",
    "target_sim_config = 'fullmp_with_sedflux'\n",
    "\n",
    "plot_dir = f\"plots/{nikki}/{sim_config}/\"\n",
    "if not os.path.exists(plot_dir):\n",
    "    os.makedirs(plot_dir)\n",
    "\n",
    "n_init = 1\n",
    "target_mp = 'BIN-TAU'\n",
    "train_mp = 'SLC-BOSS'\n",
    "mconfigs = os.listdir(cl.output_dir + nikki)\n",
    "vars_strs, vars_vn = lp.get_dics(cl.output_dir, target_nikki, target_sim_config, n_init)\n",
    "var_interest = []\n",
    "# var_interest += ['M0_dmprof', 'M3_dmprof', 'M4_dmprof', 'M6_dmprof'] # domain-mean profiles\n",
    "# var_interest += ['M0_dmpath', 'M3_dmpath', 'M4_dmpath', 'M6_dmpath'] # domain-mean path\n",
    "# var_interest += ['M0_last2hrmean', 'M3_last2hrmean', 'M4_last2hrmean', 'M6_last2hrmean', 'prate_dm_last2hrmean'] # domain-mean path\n",
    "# var_interest += ['sedflux_m0', 'sedflux_m3', 'sedflux_m4', 'sedflux_m6']\n",
    "var_interest += ['sfM0_last2hrmean', 'sfM3_last2hrmean', 'sfM4_last2hrmean', 'sfM6_last2hrmean'] # domain-mean path\n",
    "# var_interest += ['M0_curtain_mean', 'M3_curtain_mean', 'M4_curtain_mean', 'M6_curtain_mean'] # curtain\n",
    "# var_interest += ['w', 'w_dmprof', 'w_curtain_slice', 'w_curtain_mean'] # 4D var\n",
    "# var_interest += ['u_dmprof', 'v_dmprof', 'w_dmprof']\n",
    "# var_interest += ['M0', 'M3']\n",
    "\n",
    "file_info = {'dir': cl.output_dir, \n",
    "             'date': nikki,\n",
    "             'vars_vn': vars_vn}\n",
    "\n",
    "if 'nc_dict' not in globals():\n",
    "    nc_dict = {}"
   ]
  },
  {
   "cell_type": "markdown",
   "id": "d5f37317",
   "metadata": {},
   "source": [
    "# load target data"
   ]
  },
  {
   "cell_type": "code",
   "execution_count": 4,
   "id": "80be520b",
   "metadata": {},
   "outputs": [
    {
     "name": "stderr",
     "output_type": "stream",
     "text": [
      "loading BIN data: 7it [00:02,  2.86it/s]\n"
     ]
    }
   ],
   "source": [
    "import importlib\n",
    "importlib.reload(cl)\n",
    "\n",
    "for initcond_combo in tqdm(itertools.product(*vars_strs), desc='loading BIN data'):\n",
    "    ic_str = \"\".join(initcond_combo)\n",
    "    file_info.update({'sim_config': target_sim_config,\n",
    "                      'vars_str': list(initcond_combo),\n",
    "                      'date': target_nikki,\n",
    "                      'mp_config': target_mp})\n",
    "    cl.load_cm1(file_info, var_interest, nc_dict, False)"
   ]
  },
  {
   "cell_type": "markdown",
   "id": "b7ab8ad7",
   "metadata": {},
   "source": [
    "# load PPE data"
   ]
  },
  {
   "cell_type": "code",
   "execution_count": 11,
   "id": "749c1b57",
   "metadata": {},
   "outputs": [
    {
     "data": {
      "text/plain": [
       "np.float32(0.0)"
      ]
     },
     "execution_count": 11,
     "metadata": {},
     "output_type": "execute_result"
    }
   ],
   "source": [
    "# nc_dict['na10']['BIN-TAU']['sfM0_last2hrmean']['value'],\n",
    "nc_dict['cic']['SLC-BOSS'][3]['sfM3_last2hrmean']['value']"
   ]
  },
  {
   "cell_type": "code",
   "execution_count": 5,
   "id": "60d518dc",
   "metadata": {},
   "outputs": [
    {
     "name": "stderr",
     "output_type": "stream",
     "text": [
      "loading BOSS data: 100%|██████████| 100/100 [00:20<00:00,  4.94it/s]\n"
     ]
    }
   ],
   "source": [
    "# load BOSS data\n",
    "file_info.update({'sim_config': sim_config,\n",
    "                    'date': nikki,\n",
    "                    'mp_config': train_mp})\n",
    "ppe_idx = cl.get_ppe_idx(file_info)\n",
    "ppe_idx = [int(i) for i in ppe_idx]\n",
    "ppe_idx = ppe_idx[:100]\n",
    "\n",
    "for ippe in tqdm(ppe_idx, desc='loading BOSS data'):\n",
    "    cl.load_cm1(file_info, var_interest, nc_dict, True, ippe=ippe)"
   ]
  },
  {
   "cell_type": "markdown",
   "id": "bb0b3ccf",
   "metadata": {},
   "source": [
    "# visualize"
   ]
  },
  {
   "cell_type": "code",
   "execution_count": null,
   "id": "911adfaf",
   "metadata": {},
   "outputs": [
    {
     "data": {
      "text/plain": [
       "np.float32(35554.86)"
      ]
     },
     "execution_count": 22,
     "metadata": {},
     "output_type": "execute_result"
    }
   ],
   "source": [
    "nc_dict['na10']['BIN-TAU']['sfM0_last2hrmean']['value']\n",
    "# nc_dict['cic']['SLC-BOSS']"
   ]
  },
  {
   "cell_type": "code",
   "execution_count": null,
   "id": "91874414",
   "metadata": {},
   "outputs": [
    {
     "ename": "NameError",
     "evalue": "name 'plt' is not defined",
     "output_type": "error",
     "traceback": [
      "\u001b[31m---------------------------------------------------------------------------\u001b[39m",
      "\u001b[31mNameError\u001b[39m                                 Traceback (most recent call last)",
      "\u001b[36mCell\u001b[39m\u001b[36m \u001b[39m\u001b[32mIn[1]\u001b[39m\u001b[32m, line 1\u001b[39m\n\u001b[32m----> \u001b[39m\u001b[32m1\u001b[39m fig, axs = \u001b[43mplt\u001b[49m.subplots(\u001b[32m3\u001b[39m, \u001b[32m3\u001b[39m, figsize=(\u001b[32m12\u001b[39m, \u001b[32m12\u001b[39m), sharex=\u001b[38;5;28;01mTrue\u001b[39;00m)\n\u001b[32m      2\u001b[39m axs = axs.flatten()\n\u001b[32m      3\u001b[39m na = []\n",
      "\u001b[31mNameError\u001b[39m: name 'plt' is not defined"
     ]
    }
   ],
   "source": [
    "fig, axs = plt.subplots(3, 3, figsize=(12, 12), sharex=True)\n",
    "axs = axs.flatten()\n",
    "na = []\n",
    "for initcond_combo in itertools.product(*vars_strs):\n",
    "    ic_str = \"\".join(initcond_combo)\n",
    "    na.append(nc_dict[ic_str]['BIN-TAU']['na'])\n",
    "\n",
    "na = np.array(na)\n",
    "\n",
    "for ivar, var_name in enumerate(var_interest):\n",
    "    tgt_data = []\n",
    "    train_data = []\n",
    "    na_train = []\n",
    "    for initcond_combo in itertools.product(*vars_strs):\n",
    "        ic_str = \"\".join(initcond_combo)\n",
    "        tgt_data.append(nc_dict[ic_str]['BIN-TAU'][var_name]['value'])\n",
    "    for ippe in ppe_idx:\n",
    "        ippe = int(ippe)\n",
    "        train_data.append(nc_dict['cic']['SLC-BOSS'][ippe][var_name]['value'])\n",
    "        na_train.append(nc_dict['cic']['SLC-BOSS'][ippe]['na'])\n",
    "    tgt_data = np.array(tgt_data)\n",
    "    train_data = np.array(train_data)\n",
    "    na_train = np.array(na_train)\n",
    "    axs[ivar].plot(na, tgt_data, label=ic_str, linewidth=2, marker='o')\n",
    "    axs[ivar].scatter(na_train, train_data, label=ic_str, s=5, color='tab:orange', alpha=0.5)\n",
    "    axs[ivar].set_title(cl.output_var_set[var_name]['longname'])\n",
    "    axs[ivar].set_yscale('log')\n",
    "\n",
    "plt.savefig(f\"{plot_dir}{sim_config}_dm_path.png\")"
   ]
  },
  {
   "cell_type": "code",
   "execution_count": null,
   "id": "b3228cdf",
   "metadata": {},
   "outputs": [],
   "source": []
  }
 ],
 "metadata": {
  "kernelspec": {
   "display_name": "Python 3",
   "language": "python",
   "name": "python3"
  },
  "language_info": {
   "codemirror_mode": {
    "name": "ipython",
    "version": 3
   },
   "file_extension": ".py",
   "mimetype": "text/x-python",
   "name": "python",
   "nbconvert_exporter": "python",
   "pygments_lexer": "ipython3",
   "version": "3.12.10"
  }
 },
 "nbformat": 4,
 "nbformat_minor": 5
}
