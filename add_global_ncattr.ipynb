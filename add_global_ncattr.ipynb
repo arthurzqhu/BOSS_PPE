{
 "cells": [
  {
   "cell_type": "code",
   "execution_count": null,
   "id": "6d8f56d0-4328-4690-a863-8c63ef3af4a8",
   "metadata": {},
   "outputs": [],
   "source": [
    "import numpy as np\n",
    "import pandas as pd\n",
    "import netCDF4 as nc"
   ]
  },
  {
   "cell_type": "code",
   "execution_count": null,
   "id": "9de7cd83-c15f-47cf-9a3f-7a4b053917fe",
   "metadata": {},
   "outputs": [],
   "source": [
    "import os\n",
    "os.environ[\"HDF5_USE_FILE_LOCKING\"] = \"FALSE\"\n",
    "\n",
    "dataset = nc.Dataset('/pscratch/sd/a/arthurhu/BOSS_PPE/summary_ncs/rainshaft_backup.nc','r+')\n",
    "dataset.setncattr(\"init_var\", [\"dm\"])\n",
    "dataset.close()"
   ]
  },
  {
   "cell_type": "code",
   "execution_count": 16,
   "id": "23276416-4823-48a7-8b49-4800c61d0b0b",
   "metadata": {},
   "outputs": [],
   "source": []
  },
  {
   "cell_type": "code",
   "execution_count": 18,
   "id": "013377f9-373d-4190-8e32-285eae2401a1",
   "metadata": {},
   "outputs": [
    {
     "data": {
      "text/plain": [
       "np.int64(1)"
      ]
     },
     "execution_count": 18,
     "metadata": {},
     "output_type": "execute_result"
    }
   ],
   "source": []
  },
  {
   "cell_type": "code",
   "execution_count": null,
   "id": "7fb03767-acd2-42c6-bfbd-8c4b2a5344a8",
   "metadata": {},
   "outputs": [],
   "source": []
  }
 ],
 "metadata": {
  "kernelspec": {
   "display_name": "PPE_env",
   "language": "python",
   "name": "boss_ppe"
  },
  "language_info": {
   "codemirror_mode": {
    "name": "ipython",
    "version": 3
   },
   "file_extension": ".py",
   "mimetype": "text/x-python",
   "name": "python",
   "nbconvert_exporter": "python",
   "pygments_lexer": "ipython3",
   "version": "3.12.10"
  }
 },
 "nbformat": 4,
 "nbformat_minor": 5
}
