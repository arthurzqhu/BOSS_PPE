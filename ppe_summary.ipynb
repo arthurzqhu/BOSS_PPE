{
 "cells": [
  {
   "cell_type": "markdown",
   "id": "e36be27e-bf5a-499f-8680-9ab17c2335b6",
   "metadata": {},
   "source": [
    "# Import"
   ]
  },
  {
   "cell_type": "code",
   "execution_count": 4,
   "id": "f080954c",
   "metadata": {},
   "outputs": [],
   "source": [
    "import load_ppe_fun as lp\n",
    "from tqdm import tqdm\n",
    "import numpy as np\n",
    "import pandas as pd\n",
    "import os\n",
    "import pickle\n",
    "import re\n",
    "import netCDF4 as nc\n",
    "import itertools"
   ]
  },
  {
   "cell_type": "code",
   "execution_count": 5,
   "id": "4a60e75e",
   "metadata": {},
   "outputs": [],
   "source": [
    "vnum = '0001'\n",
    "nikki = '2025-07-29'\n",
    "target_nikki = '2025-07-29'\n",
    "momxy = '46'\n",
    "\n",
    "sim_config = 'box_coal_qn_4ma_hill_growth'\n",
    "target_simconfig = 'box_coal_varqn_dt5_test' # + momxy\n",
    "\n",
    "if not os.path.exists(lp.nc_dir):\n",
    "    os.makedirs(lp.nc_dir)\n",
    "l_cic = True\n",
    "\n",
    "n_init = 2\n",
    "do_reload = False\n",
    "target_name = 'boss_4m' + momxy\n",
    "\n",
    "vars_strs = lp.get_dics(lp.output_dir, target_nikki, target_simconfig, n_init)\n",
    "mps, nmp = lp.get_mps(lp.output_dir, nikki, sim_config, l_cic, vars_strs, momxy)\n",
    "mps = lp.sort_strings_by_number(mps)\n",
    "# condevp\n",
    "# snapshot_var_idx = [4, 86, 119, 120] # LWP, LNP, Mx_path, My_path\n",
    "# snapshot_var_idx = [86, 119, 120] # LNP, Mx_path, My_path\n",
    "# snapshot_var_idx = [115, 116, 117, 118] # M3, M0, Mx, My\n",
    "snapshot_var_idx = [116, 117, 118] # M0, Mx, My\n",
    "# snapshot_var_idx = [115, 118] # M3, M0, Mx, My\n",
    "# snapshot_var_idx = [135, 136, 137, 138]\n",
    "summary_var_idx = []\n",
    "# summary_var_idx = [95, 107, 121, 122]\n",
    "# snapshot_var_idx = [21, 97, 98, 99] # dm3_sed, dm0_sed, dm6_sed, dm9_sed\n",
    "# snapshot_var_idx = [21, 97, 143, 98] # dm3_sed, dm0_sed, dm4_sed, dm6_sed\n",
    "# summary_var_idx = [131, 132, 133, 134]\n",
    "# snapshot_var_idx = [135, 136, 137, 138] # V_M0, V_M3, V_Mx, V_My\n",
    "# snapshot_var_idx = [87, 88, 89] # dm0_coal, dmx_coal, dmy_coal\n",
    "# summary_var_idx = [95, 107, 121, 122, 123, 124, 125, 126]\n",
    "# summary_var_idx = [108, 95, 107, 121, 122]"
   ]
  },
  {
   "cell_type": "markdown",
   "id": "af87c187",
   "metadata": {},
   "source": [
    "# Reading output"
   ]
  },
  {
   "cell_type": "code",
   "execution_count": 6,
   "id": "b39e9653",
   "metadata": {},
   "outputs": [
    {
     "name": "stderr",
     "output_type": "stream",
     "text": [
      "loading PPEs: 100%|██████████| 5000/5000 [00:49<00:00, 101.93it/s]\n"
     ]
    }
   ],
   "source": [
    "var_interest = snapshot_var_idx + summary_var_idx\n",
    "\n",
    "vars_vn = [re.search(r'^[A-Z]*[a-z]*', istr[0])[0] for istr in vars_strs]\n",
    "\n",
    "file_info = {'dir': lp.output_dir, \n",
    "             'date': nikki, \n",
    "             'version_number': vnum,\n",
    "             'vars_vn': vars_vn}\n",
    "\n",
    "nc_dict = {}\n",
    "data_range = {}\n",
    "\n",
    "# load PPE data from BOSS\n",
    "ic_str = 'cic'\n",
    "file_info.update({'sim_config': sim_config})\n",
    "for imp, mp in enumerate(tqdm(mps, desc='loading PPEs')):\n",
    "    file_info['mp_config'] = mp\n",
    "    nc_dict = lp.load_KiD(file_info, var_interest, nc_dict, data_range, \n",
    "                            continuous_ic=True, set_OOB_as_NaN=False, set_NaN_to_0=True)[0]"
   ]
  },
  {
   "cell_type": "code",
   "execution_count": 7,
   "id": "3beba18b",
   "metadata": {},
   "outputs": [],
   "source": [
    "# load target\n",
    "for combo in itertools.product(*vars_strs):\n",
    "    ic_str = \"\".join(combo)\n",
    "    file_info.update({'sim_config': target_simconfig,\n",
    "                        'vars_str': list(combo),\n",
    "                        'date': target_nikki,\n",
    "                        'mp_config': target_name})\n",
    "    nc_dict, lin_or_log, data_range = lp.load_KiD(file_info, var_interest, nc_dict, data_range, \n",
    "                                                    continuous_ic=False, set_OOB_as_NaN=False, set_NaN_to_0=True)"
   ]
  },
  {
   "cell_type": "markdown",
   "id": "7eeb49df",
   "metadata": {},
   "source": [
    "# diagnosis"
   ]
  },
  {
   "cell_type": "code",
   "execution_count": 6,
   "id": "dd8a5236",
   "metadata": {},
   "outputs": [],
   "source": [
    "# from matplotlib import pyplot as plt\n",
    "# time = nc_dict['time']\n",
    "# z = nc_dict['z']\n",
    "# plt.imshow(nc_dict['Na200w2']['BIN_TAU46']['M3'], extent=[time[0], time[-1], z[0], z[-1]], origin='lower', aspect='auto')\n",
    "# plt.colorbar()\n",
    "# plt.show()"
   ]
  },
  {
   "cell_type": "markdown",
   "id": "12350a2b",
   "metadata": {},
   "source": [
    "# Saving output"
   ]
  },
  {
   "cell_type": "markdown",
   "id": "aca84cb7",
   "metadata": {},
   "source": [
    "## prepping"
   ]
  },
  {
   "cell_type": "code",
   "execution_count": 8,
   "id": "14910443",
   "metadata": {},
   "outputs": [],
   "source": [
    "diag_dt = max(1., nc_dict['time'][1] - nc_dict['time'][0])\n",
    "diag_dz = 50\n",
    "\n",
    "\n",
    "dt = nc_dict['time'][1] - nc_dict['time'][0]\n",
    "dz = nc_dict['z'][1] - nc_dict['z'][0]\n",
    "nt = len(nc_dict['time'])\n",
    "nz = len(nc_dict['z'])\n",
    "\n",
    "diag_ts = [x for x in nc_dict['time'] if x % diag_dt == 0]\n",
    "# diag_zs = [x for x in nc_dict['z'][1:] if x % diag_dz == 0]\n",
    "diag_zs = np.arange(1000,3001,diag_dz)\n",
    "\n",
    "ncase = 1\n",
    "ncase_respective = [len(i) for i in vars_strs]\n",
    "# ncase_respective = [11, 3]\n",
    "for i in ncase_respective:\n",
    "    ncase *= i\n",
    "\n",
    "dims = {\n",
    "    'ntime': len(diag_ts),\n",
    "    'nz': len(diag_zs),\n",
    "    'scalar_var': 1,\n",
    "    'ncase': ncase,\n",
    "    'nppe': len(mps),\n",
    "}\n",
    "\n",
    "ncvars = {\n",
    "    'diag_ts': {\n",
    "        'data': diag_ts,\n",
    "        'dims': ('ntime',),\n",
    "        'units': 's',\n",
    "    },\n",
    "    'diag_zs': {\n",
    "        'data': diag_zs,\n",
    "        'dims': ('nz',),\n",
    "        'units': 'm',\n",
    "    },\n",
    "}\n",
    "\n",
    "global_attrs = {\n",
    "    'description': 'PPE data for ' + sim_config,\n",
    "    'date_simulated': nikki,\n",
    "}\n",
    "\n"
   ]
  },
  {
   "cell_type": "markdown",
   "id": "b315f0d7",
   "metadata": {},
   "source": [
    "## load BOSS"
   ]
  },
  {
   "cell_type": "code",
   "execution_count": 11,
   "id": "649f212e",
   "metadata": {},
   "outputs": [
    {
     "data": {
      "text/plain": [
       "(120, 720)"
      ]
     },
     "execution_count": 11,
     "metadata": {},
     "output_type": "execute_result"
    }
   ],
   "source": [
    "mps = list(nc_dict['cic'].keys())\n",
    "vshape = nc_dict['cic'][mps[0]][var_ename].shape\n",
    "vshape"
   ]
  },
  {
   "cell_type": "code",
   "execution_count": 9,
   "id": "fcfd7ff8",
   "metadata": {},
   "outputs": [
    {
     "name": "stderr",
     "output_type": "stream",
     "text": [
      "loading params:   0%|          | 0/5000 [00:00<?, ?it/s]"
     ]
    },
    {
     "name": "stderr",
     "output_type": "stream",
     "text": [
      "loading params: 100%|██████████| 5000/5000 [00:03<00:00, 1271.51it/s]\n",
      "processing PPEs - M0:  15%|█▍        | 743/5000 [00:38<03:38, 19.53it/s]\n"
     ]
    },
    {
     "ename": "KeyboardInterrupt",
     "evalue": "",
     "output_type": "error",
     "traceback": [
      "\u001b[0;31m---------------------------------------------------------------------------\u001b[0m",
      "\u001b[0;31mKeyboardInterrupt\u001b[0m                         Traceback (most recent call last)",
      "Cell \u001b[0;32mIn[9], line 66\u001b[0m\n\u001b[1;32m     64\u001b[0m     \u001b[38;5;28;01mfor\u001b[39;00m idgz, diag_z \u001b[38;5;129;01min\u001b[39;00m \u001b[38;5;28menumerate\u001b[39m(diag_zs):\n\u001b[1;32m     65\u001b[0m         iz \u001b[38;5;241m=\u001b[39m \u001b[38;5;28mint\u001b[39m(diag_z \u001b[38;5;241m/\u001b[39m dz) \u001b[38;5;241m-\u001b[39m \u001b[38;5;241m1\u001b[39m\n\u001b[0;32m---> 66\u001b[0m         ncvars[\u001b[38;5;124m'\u001b[39m\u001b[38;5;124mboss_\u001b[39m\u001b[38;5;124m'\u001b[39m \u001b[38;5;241m+\u001b[39m var_ename][\u001b[38;5;124m'\u001b[39m\u001b[38;5;124mdata\u001b[39m\u001b[38;5;124m'\u001b[39m][imp, idgz, idgt] \u001b[38;5;241m=\u001b[39m \u001b[43mnc_dict\u001b[49m\u001b[43m[\u001b[49m\u001b[43mic_str\u001b[49m\u001b[43m]\u001b[49m\u001b[43m[\u001b[49m\u001b[43mmp\u001b[49m\u001b[43m]\u001b[49m\u001b[43m[\u001b[49m\u001b[43mvar_ename\u001b[49m\u001b[43m]\u001b[49m\u001b[43m[\u001b[49m\u001b[43miz\u001b[49m\u001b[43m,\u001b[49m\u001b[43m \u001b[49m\u001b[43mit\u001b[49m\u001b[43m]\u001b[49m\n\u001b[1;32m     67\u001b[0m \u001b[38;5;28;01melse\u001b[39;00m:\n\u001b[1;32m     68\u001b[0m     ncvars[\u001b[38;5;124m'\u001b[39m\u001b[38;5;124mboss_\u001b[39m\u001b[38;5;124m'\u001b[39m \u001b[38;5;241m+\u001b[39m var_ename][\u001b[38;5;124m'\u001b[39m\u001b[38;5;124mdata\u001b[39m\u001b[38;5;124m'\u001b[39m][imp, idgt] \u001b[38;5;241m=\u001b[39m nc_dict[ic_str][mp][var_ename][it]\n",
      "File \u001b[0;32m~/BOSS_PPE/.venv/lib/python3.10/site-packages/numpy/ma/core.py:3257\u001b[0m, in \u001b[0;36mMaskedArray.__getitem__\u001b[0;34m(self, indx)\u001b[0m\n\u001b[1;32m   3253\u001b[0m         \u001b[38;5;28;01mreturn\u001b[39;00m \u001b[38;5;28;01mFalse\u001b[39;00m\n\u001b[1;32m   3255\u001b[0m     \u001b[38;5;28;01mreturn\u001b[39;00m \u001b[38;5;28;01mNone\u001b[39;00m\n\u001b[0;32m-> 3257\u001b[0m \u001b[38;5;28;01mif\u001b[39;00m _mask \u001b[38;5;129;01mis\u001b[39;00m \u001b[38;5;129;01mnot\u001b[39;00m nomask:\n\u001b[1;32m   3258\u001b[0m     \u001b[38;5;66;03m# _mask cannot be a subclass, so it tells us whether we should\u001b[39;00m\n\u001b[1;32m   3259\u001b[0m     \u001b[38;5;66;03m# expect a scalar. It also cannot be of dtype object.\u001b[39;00m\n\u001b[1;32m   3260\u001b[0m     mout \u001b[38;5;241m=\u001b[39m _mask[indx]\n\u001b[1;32m   3261\u001b[0m     scalar_expected \u001b[38;5;241m=\u001b[39m _is_scalar(mout)\n",
      "\u001b[0;31mKeyboardInterrupt\u001b[0m: "
     ]
    }
   ],
   "source": [
    "ic_str = 'cic'\n",
    "\n",
    "for i_init, var_vn in enumerate(vars_vn):\n",
    "    ncvars[var_vn + '_PPE'] = {}\n",
    "    ncvars[var_vn + '_PPE']['data'] = np.zeros((len(mps),))\n",
    "\n",
    "\n",
    "for i_init, var_vn in enumerate(vars_vn):\n",
    "    ncvars[var_vn + '_PPE']['dims'] = ('nppe',)\n",
    "    ncvars[var_vn + '_PPE']['units'] = '1/cc'\n",
    "    for imp, mp in enumerate(mps):\n",
    "        ncvars[var_vn + '_PPE']['data'][imp] = nc_dict[ic_str][mp][var_vn]\n",
    "    \n",
    "# store the parameter data into the netCDF file\n",
    "header = pd.read_csv(lp.output_dir + nikki + '/' + sim_config + '/' + mp + '/' + 'params.csv').columns\n",
    "param_names = np.array([a.strip() for a in header])\n",
    "dims['nparams']=len(header)\n",
    "\n",
    "ncvars['param_names'] = {}\n",
    "ncvars['param_names']['dims'] = ('nparams',)\n",
    "ncvars['param_names']['data'] = param_names\n",
    "ncvars['param_names']['units'] = ''\n",
    "\n",
    "ncvars['params_PPE'] = {}\n",
    "ncvars['params_PPE']['dims'] = ('nppe','nparams',)\n",
    "ncvars['params_PPE']['units'] = ''\n",
    "ncvars['params_PPE']['data'] = np.zeros((len(mps), dims['nparams']))\n",
    "\n",
    "for imp, mp in enumerate(tqdm(mps, desc='loading params')):\n",
    "    param_df = pd.read_csv(lp.output_dir + nikki + '/' + sim_config + '/' + mp + '/' + 'params.csv')\n",
    "    ncvars['params_PPE']['data'][imp, :] = np.array(param_df)\n",
    "\n",
    "for isumm in summary_var_idx:\n",
    "    var_ename = lp.indvar_ename_set[isumm]\n",
    "    var_units = lp.indvar_units_set[isumm]\n",
    "    if var_units != '':\n",
    "        var_units = var_units[2:-1]\n",
    "    ncvars['boss_' + var_ename] = {}\n",
    "    ncvars['boss_' + var_ename]['data'] = np.array([nc_dict[ic_str][mp][var_ename] for mp in mps])\n",
    "    ncvars['boss_' + var_ename]['dims'] = ('nppe',)\n",
    "    ncvars['boss_' + var_ename]['units'] = var_units\n",
    "\n",
    "    ncvars['bin_' + var_ename] = {}\n",
    "\n",
    "for isnap in snapshot_var_idx:\n",
    "    var_ename = lp.indvar_ename_set[isnap]\n",
    "    var_units = lp.indvar_units_set[isnap]\n",
    "    ncvars['boss_' + var_ename] = {}\n",
    "\n",
    "    if var_units != '':\n",
    "        var_units = var_units[2:-1]\n",
    "    if nc_dict[ic_str][mps[0]][var_ename].shape[0] == nz:\n",
    "        ncvars['boss_' + var_ename]['dims'] = ('nppe','nz','ntime',)\n",
    "        ncvars['boss_' + var_ename]['data'] = np.zeros((len(mps), len(diag_zs), len(diag_ts)))\n",
    "    else:\n",
    "        ncvars['boss_' + var_ename]['dims'] = ('nppe','ntime',)\n",
    "        ncvars['boss_' + var_ename]['data'] = np.zeros((len(mps), len(diag_ts)))\n",
    "    ncvars['boss_' + var_ename]['units'] = var_units\n",
    "\n",
    "    for imp, mp in enumerate(tqdm(mps, desc='processing PPEs - ' + var_ename)):\n",
    "        for idgt, diag_t in enumerate(diag_ts):\n",
    "            it = int(diag_t / dt) - 1\n",
    "            if nc_dict[ic_str][mp][var_ename].shape[0] == nz:\n",
    "                for idgz, diag_z in enumerate(diag_zs):\n",
    "                    iz = int(diag_z / dz) - 1\n",
    "                    ncvars['boss_' + var_ename]['data'][imp, idgz, idgt] = nc_dict[ic_str][mp][var_ename][iz, it]\n",
    "            else:\n",
    "                ncvars['boss_' + var_ename]['data'][imp, idgt] = nc_dict[ic_str][mp][var_ename][it]"
   ]
  },
  {
   "cell_type": "markdown",
   "id": "706d7cf4",
   "metadata": {},
   "source": [
    "## load target"
   ]
  },
  {
   "cell_type": "code",
   "execution_count": null,
   "id": "1cc4a9d9",
   "metadata": {},
   "outputs": [],
   "source": [
    "for isumm in summary_var_idx:\n",
    "    var_ename = lp.indvar_ename_set[isumm]\n",
    "    var_units = lp.indvar_units_set[isumm]\n",
    "    if var_units != '':\n",
    "        var_units = var_units[2:-1]\n",
    "    ncvars['bin_' + var_ename] = {}\n",
    "    ncvars['bin_' + var_ename]['dims'] = ('ncase',)\n",
    "    ncvars['bin_' + var_ename]['units'] = var_units\n",
    "    ncvars['bin_' + var_ename]['data'] = np.zeros(ncase)\n",
    "    icase = 0\n",
    "    for combo in itertools.product(*vars_strs):\n",
    "        ic_str = \"\".join(combo)\n",
    "        ncvars['bin_' + var_ename]['data'][icase] = nc_dict[ic_str][target_name][var_ename]\n",
    "        icase += 1\n",
    "\n",
    "for isnap in snapshot_var_idx:\n",
    "    var_ename = lp.indvar_ename_set[isnap]\n",
    "    var_units = lp.indvar_units_set[isnap]\n",
    "    if var_units != '':\n",
    "        var_units = var_units[2:-1]\n",
    "    ncvars['bin_' + var_ename] = {}\n",
    "    # ic_str inherits from above\n",
    "    ic_str = \"\".join(list(itertools.product(*vars_strs))[0])\n",
    "    if nc_dict[ic_str][target_name][var_ename].shape[0] == nz:\n",
    "        ncvars['bin_' + var_ename]['dims'] = ('ncase','nz','ntime',)\n",
    "        ncvars['bin_' + var_ename]['data'] = np.zeros((ncase, len(diag_zs), len(diag_ts)))\n",
    "    else:\n",
    "        ncvars['bin_' + var_ename]['dims'] = ('ncase','ntime',)\n",
    "        ncvars['bin_' + var_ename]['data'] = np.zeros((ncase, len(diag_ts)))\n",
    "    ncvars['bin_' + var_ename]['units'] = var_units\n",
    "\n",
    "    icase = 0\n",
    "    for combo in itertools.product(*vars_strs):\n",
    "        ic_str = \"\".join(combo)\n",
    "        for idgt, diag_t in enumerate(diag_ts):\n",
    "            it = int(diag_t / dt) - 1\n",
    "            if nc_dict[ic_str][target_name][var_ename].shape[0] == nz:\n",
    "                for idgz, diag_z in enumerate(diag_zs):\n",
    "                    iz = int(diag_z / dz) - 1\n",
    "                    ncvars['bin_' + var_ename]['data'][icase, idgz, idgt] = nc_dict[ic_str][target_name][var_ename][iz, it]\n",
    "            else:\n",
    "                ncvars['bin_' + var_ename]['data'][icase, idgt] = nc_dict[ic_str][target_name][var_ename][it]\n",
    "        icase += 1\n",
    "\n",
    "for var_vn in vars_vn:\n",
    "    \n",
    "    ncvars['case_' + var_vn] = {}\n",
    "    ncvars['case_' + var_vn]['data'] = []\n",
    "    # ncvars['case_' + var_vn]['units'] = '1/cc'\n",
    "    ncvars['case_' + var_vn]['dims'] = ('ncase',)\n",
    "    \n",
    "for combo in itertools.product(*vars_strs):\n",
    "    for i_init, var_vn in enumerate(vars_vn):\n",
    "        ncvars['case_' + var_vn]['data'].append(float(re.search(r'[+-]?\\d*\\.?\\d+', combo[i_init]).group()))"
   ]
  },
  {
   "cell_type": "code",
   "execution_count": null,
   "id": "246aca6e",
   "metadata": {},
   "outputs": [],
   "source": [
    "global_attrs['thresholds_eff0'] = []\n",
    "var_constraints = []\n",
    "for ivar in summary_var_idx + snapshot_var_idx:\n",
    "    var_constraints.append(lp.indvar_ename_set[ivar])    \n",
    "global_attrs['var_constraints'] = np.array(var_constraints)\n",
    "global_attrs['init_var'] = np.array(vars_vn)\n",
    "global_attrs['n_init'] = n_init\n",
    "global_attrs['n_param_nevp'] = nc_dict['n_param_nevp']\n",
    "global_attrs['n_param_condevp'] = nc_dict['n_param_condevp']\n",
    "global_attrs['n_param_coal'] = nc_dict['n_param_coal']\n",
    "global_attrs['n_param_sed'] = nc_dict['n_param_sed']\n",
    "global_attrs['is_perturbed_nevp'] = nc_dict['is_perturbed_nevp']\n",
    "global_attrs['is_perturbed_condevp'] = nc_dict['is_perturbed_condevp']\n",
    "global_attrs['is_perturbed_coal'] = nc_dict['is_perturbed_coal']\n",
    "global_attrs['is_perturbed_sed'] = nc_dict['is_perturbed_sed']\n",
    "\n",
    "for isumm in summary_var_idx + snapshot_var_idx:\n",
    "    var_ename = lp.indvar_ename_set[isumm]\n",
    "    # ncvars['boss_' + var_ename]['data'][ncvars['boss_' + var_ename]['data'] < 0] = 0.\n",
    "    # ncvars['bin_' + var_ename]['data'][ncvars['bin_' + var_ename]['data'] < 0] = 0.\n",
    "    value_greater_0 = ncvars['boss_' + var_ename]['data'][ncvars['boss_' + var_ename]['data'] > 0]\n",
    "    if 'V_M' in var_ename:\n",
    "        global_attrs['thresholds_eff0'].append(0.1)\n",
    "    else:\n",
    "        global_attrs['thresholds_eff0'].append(np.nanpercentile(value_greater_0, 1))\n",
    "    # global_attrs['thresholds_eff0'].append(0.01)"
   ]
  },
  {
   "cell_type": "code",
   "execution_count": null,
   "id": "38a81c87",
   "metadata": {},
   "outputs": [
    {
     "data": {
      "text/plain": [
       "[95.9450454711914, 1.4391718272297425e-14, 2.761623549398956e-25]"
      ]
     },
     "execution_count": 12,
     "metadata": {},
     "output_type": "execute_result"
    }
   ],
   "source": [
    "global_attrs['thresholds_eff0']"
   ]
  },
  {
   "cell_type": "markdown",
   "id": "b2bd654a",
   "metadata": {},
   "source": [
    "# write data into netcdf"
   ]
  },
  {
   "cell_type": "code",
   "execution_count": 25,
   "id": "a559fdd4",
   "metadata": {},
   "outputs": [],
   "source": [
    "nc_file = nc.Dataset(f\"{lp.nc_dir}{sim_config}_{momxy}_momvals_targetBOSS_N{len(mps)}_dt{diag_dt}.nc\", 'r+', format='NETCDF4')"
   ]
  },
  {
   "cell_type": "code",
   "execution_count": 26,
   "id": "617bc344",
   "metadata": {},
   "outputs": [],
   "source": [
    "# Create dimensions (None for unlimited dimension, e.g., time)\n",
    "for dim_name, dim in dims.items():\n",
    "    if dim_name not in nc_file.dimensions:\n",
    "        nc_file.createDimension(dim_name, dim)\n",
    "\n",
    "# save global attributes\n",
    "for attr_name, attr_value in global_attrs.items():\n",
    "    if isinstance(attr_value, list):\n",
    "        nc_file.setncattr(attr_name, np.array(attr_value))\n",
    "    else:\n",
    "        nc_file.setncattr(attr_name, attr_value)\n",
    "\n",
    "outnc_dict = {}\n",
    "for var_name, var in ncvars.items():\n",
    "    if var_name not in nc_file.variables:\n",
    "        if all(isinstance(item, str) for item in var['data']):\n",
    "            outnc_dict[var_name] = nc_file.createVariable(var_name, str, var['dims'])\n",
    "        else:\n",
    "            outnc_dict[var_name] = nc_file.createVariable(var_name, np.float64, var['dims'])\n",
    "        if 'data' in var:\n",
    "            outnc_dict[var_name][:] = var['data']\n",
    "        try:\n",
    "            outnc_dict[var_name].units = var['units']\n",
    "        except:\n",
    "            outnc_dict[var_name].units = \"\""
   ]
  },
  {
   "cell_type": "code",
   "execution_count": 27,
   "id": "37fcb290",
   "metadata": {},
   "outputs": [],
   "source": [
    "nc_file.close()"
   ]
  },
  {
   "cell_type": "code",
   "execution_count": null,
   "id": "f800225f",
   "metadata": {},
   "outputs": [],
   "source": []
  }
 ],
 "metadata": {
  "kernelspec": {
   "display_name": ".venv",
   "language": "python",
   "name": "python3"
  },
  "language_info": {
   "codemirror_mode": {
    "name": "ipython",
    "version": 3
   },
   "file_extension": ".py",
   "mimetype": "text/x-python",
   "name": "python",
   "nbconvert_exporter": "python",
   "pygments_lexer": "ipython3",
   "version": "3.10.12"
  }
 },
 "nbformat": 4,
 "nbformat_minor": 5
}
