{
 "cells": [
  {
   "cell_type": "code",
   "execution_count": 1,
   "id": "f080954c",
   "metadata": {},
   "outputs": [],
   "source": [
    "import load_ppe_fun as lp\n",
    "from tqdm import tqdm\n",
    "import numpy as np\n",
    "import pandas as pd\n",
    "import os\n",
    "import pickle\n",
    "import re\n",
    "import netCDF4 as nc"
   ]
  },
  {
   "cell_type": "code",
   "execution_count": null,
   "id": "4a60e75e",
   "metadata": {},
   "outputs": [],
   "source": [
    "vnum = '0001'\n",
    "nikki = '2025-04-22'\n",
    "sim_config = 'condevp_withcoal'\n",
    "target_simconfig = 'condevp_withcoal'\n",
    "nc_dir = 'summary_ncs/'\n",
    "if not os.path.exists(nc_dir):\n",
    "    os.makedirs(nc_dir)\n",
    "l_cic = True\n",
    "\n",
    "var1_strs, var2_strs = lp.get_dics(lp.output_dir, 'target', target_simconfig)\n",
    "mps, nmp = lp.get_mps(lp.output_dir, nikki, sim_config, l_cic)\n",
    "mps = lp.sort_strings_by_number(mps)\n",
    "# condevp\n",
    "# snapshot_var_idx = [4, 86, 119, 120]\n",
    "snapshot_var_idx = [115, 116, 117, 118]\n",
    "summary_var_idx = [95, 107, 121, 122]"
   ]
  },
  {
   "cell_type": "markdown",
   "id": "af87c187",
   "metadata": {},
   "source": [
    "# Reading output"
   ]
  },
  {
   "cell_type": "code",
   "execution_count": 3,
   "id": "b39e9653",
   "metadata": {},
   "outputs": [
    {
     "name": "stderr",
     "output_type": "stream",
     "text": [
      "loading PPEs: 100%|██████████| 10000/10000 [01:12<00:00, 138.36it/s]\n"
     ]
    }
   ],
   "source": [
    "var_interest = snapshot_var_idx + summary_var_idx\n",
    "\n",
    "file_info = {'dir': lp.output_dir, \n",
    "             'date': nikki, \n",
    "             'version_number': vnum}\n",
    "\n",
    "diag_dt = 60\n",
    "diag_dz = 100\n",
    "\n",
    "nc_dict = {}\n",
    "data_range = {}\n",
    "ppe_var = {}\n",
    "target_var = {}\n",
    "\n",
    "var1_str = var1_strs[0]\n",
    "var2_str = var2_strs[0]\n",
    "\n",
    "# load PPE data from BOSS\n",
    "nc_summary_pkl_fn = lp.output_dir + nikki + '/' + sim_config + '_ncs_' + str(var_interest) + '.pkl'\n",
    "if os.path.isfile(nc_summary_pkl_fn):\n",
    "    with open(nc_summary_pkl_fn, 'rb') as file:\n",
    "        nc_dict = pickle.load(file)\n",
    "else:\n",
    "    ic_str = 'cic'\n",
    "    file_info.update({'sim_config': sim_config, \n",
    "                      'var1_str': var1_str, \n",
    "                      'var2_str': var2_str})\n",
    "    for imp, mp in enumerate(tqdm(mps, desc='loading PPEs')):\n",
    "        file_info['mp_config'] = mp\n",
    "        nc_dict = lp.load_KiD(file_info, var_interest, nc_dict, data_range, \n",
    "                              continuous_ic=True, set_OOB_as_NaN=False, set_NaN_to_0=True)[0]\n",
    "\n",
    "    # load BIN_TAU\n",
    "    for var1_str in var1_strs:\n",
    "        for var2_str in var2_strs:\n",
    "            mp = 'BIN_TAU'\n",
    "            file_info.update({'sim_config': target_simconfig, \n",
    "                              'date': 'target',\n",
    "                              'mp_config': mp,\n",
    "                              'var1_str': var1_str, \n",
    "                              'var2_str': var2_str})\n",
    "            nc_dict = lp.load_KiD(file_info, var_interest, nc_dict, data_range, \n",
    "                                  continuous_ic=False, set_OOB_as_NaN=False, set_NaN_to_0=True)[0]\n",
    "\n",
    "    with open(nc_summary_pkl_fn, 'wb') as file:\n",
    "        pickle.dump(nc_dict, file)"
   ]
  },
  {
   "cell_type": "markdown",
   "id": "12350a2b",
   "metadata": {},
   "source": [
    "# Saving output"
   ]
  },
  {
   "cell_type": "markdown",
   "id": "aca84cb7",
   "metadata": {},
   "source": [
    "## prepping"
   ]
  },
  {
   "cell_type": "code",
   "execution_count": 4,
   "id": "14910443",
   "metadata": {},
   "outputs": [],
   "source": [
    "dt = nc_dict['time'][1] - nc_dict['time'][0]\n",
    "dz = nc_dict['z'][1] - nc_dict['z'][0]\n",
    "nt = len(nc_dict['time'])\n",
    "nz = len(nc_dict['z'])\n",
    "\n",
    "diag_ts = [x for x in nc_dict['time'][1:] if x % diag_dt == 0]\n",
    "diag_zs = [z for z in nc_dict['z'][1:] if z % diag_dz == 0]\n",
    "\n",
    "dims = {\n",
    "    'ntime': len(diag_ts),\n",
    "    'nz': len(diag_zs),\n",
    "    'scalar_var': 1,\n",
    "    'ncase': len(var1_strs) * len(var2_strs),\n",
    "    'nppe': len(mps),\n",
    "    'nparams': 40,\n",
    "}\n",
    "\n",
    "ncvars = {\n",
    "    'diag_ts': {\n",
    "        'data': diag_ts,\n",
    "        'dims': ('ntime',),\n",
    "        'units': 's',\n",
    "    },\n",
    "    'diag_zs': {\n",
    "        'data': diag_zs,\n",
    "        'dims': ('nz',),\n",
    "        'units': 'm',\n",
    "    },\n",
    "}\n",
    "\n",
    "global_attrs = {\n",
    "    'description': 'PPE data for ' + sim_config,\n",
    "    'date_created': nikki,\n",
    "}\n",
    "\n"
   ]
  },
  {
   "cell_type": "markdown",
   "id": "b315f0d7",
   "metadata": {},
   "source": [
    "## load BOSS"
   ]
  },
  {
   "cell_type": "code",
   "execution_count": 5,
   "id": "fcfd7ff8",
   "metadata": {},
   "outputs": [
    {
     "name": "stderr",
     "output_type": "stream",
     "text": [
      "loading params: 100%|██████████| 10000/10000 [00:06<00:00, 1445.24it/s]\n",
      "processing PPEs - LWP: 100%|██████████| 10000/10000 [00:00<00:00, 18482.84it/s]\n",
      "processing PPEs - LNP: 100%|██████████| 10000/10000 [00:00<00:00, 18555.53it/s]\n",
      "processing PPEs - liq_M3_path: 100%|██████████| 10000/10000 [00:00<00:00, 18140.60it/s]\n",
      "processing PPEs - liq_M4_path: 100%|██████████| 10000/10000 [00:00<00:00, 17911.68it/s]\n"
     ]
    }
   ],
   "source": [
    "ic_str = 'cic'\n",
    "\n",
    "ncvars['w_PPE'] = {}\n",
    "ncvars['Na_PPE'] = {}\n",
    "ncvars['Na_PPE']['data'] = np.zeros((len(mps),))\n",
    "ncvars['w_PPE']['data'] = np.zeros((len(mps),))\n",
    "\n",
    "for imp, mp in enumerate(mps):\n",
    "    ncvars['Na_PPE']['dims'] = ('nppe',)\n",
    "    ncvars['Na_PPE']['units'] = '1/cc'\n",
    "    ncvars['Na_PPE']['data'][imp] = nc_dict[ic_str][mp]['Na']\n",
    "    ncvars['w_PPE']['dims'] = ('nppe',)\n",
    "    ncvars['w_PPE']['units'] = 'm/s'\n",
    "    ncvars['w_PPE']['data'][imp] = nc_dict[ic_str][mp]['w']\n",
    "\n",
    "# store the parameter data into the netCDF file\n",
    "ncvars['params_PPE'] = {}\n",
    "ncvars['params_PPE']['dims'] = ('nppe','nparams',)\n",
    "ncvars['params_PPE']['units'] = ''\n",
    "ncvars['params_PPE']['data'] = np.zeros((len(mps), dims['nparams']))\n",
    "for imp, mp in enumerate(tqdm(mps, desc='loading params')):\n",
    "    param_df = pd.read_csv(lp.output_dir + nikki + '/' + sim_config + '/' + mp + '/' + 'params.csv')\n",
    "    ncvars['params_PPE']['data'][imp, :] = np.array(param_df)\n",
    "\n",
    "header = pd.read_csv(lp.output_dir + nikki + '/' + sim_config + '/' + mp + '/' + 'params.csv').columns\n",
    "param_names = np.array([a.strip() for a in header])\n",
    "\n",
    "ncvars['param_names'] = {}\n",
    "ncvars['param_names']['dims'] = ('nparams',)\n",
    "ncvars['param_names']['data'] = param_names\n",
    "ncvars['param_names']['units'] = ''\n",
    "\n",
    "for isumm in summary_var_idx:\n",
    "    var_ename = lp.indvar_ename_set[isumm]\n",
    "    var_units = lp.indvar_units_set[isumm]\n",
    "    if var_units != '':\n",
    "        var_units = var_units[2:-1]\n",
    "    ncvars['boss_' + var_ename] = {}\n",
    "    ncvars['boss_' + var_ename]['data'] = np.array([nc_dict[ic_str][mp][var_ename] for mp in mps])\n",
    "    ncvars['boss_' + var_ename]['dims'] = ('nppe',)\n",
    "    ncvars['boss_' + var_ename]['units'] = var_units\n",
    "\n",
    "    ncvars['bin_' + var_ename] = {}\n",
    "\n",
    "for isnap in snapshot_var_idx:\n",
    "    var_ename = lp.indvar_ename_set[isnap]\n",
    "    var_units = lp.indvar_units_set[isnap]\n",
    "    ncvars['boss_' + var_ename] = {}\n",
    "\n",
    "    if var_units != '':\n",
    "        var_units = var_units[2:-1]\n",
    "    if nc_dict[ic_str][mps[0]][var_ename].shape[0] == nz:\n",
    "        ncvars['boss_' + var_ename]['dims'] = ('nppe','nz','ntime',)\n",
    "        ncvars['boss_' + var_ename]['data'] = np.zeros((len(mps), len(diag_zs), len(diag_ts)))\n",
    "    else:\n",
    "        ncvars['boss_' + var_ename]['dims'] = ('nppe','ntime',)\n",
    "        ncvars['boss_' + var_ename]['data'] = np.zeros((len(mps), len(diag_ts)))\n",
    "    ncvars['boss_' + var_ename]['units'] = var_units\n",
    "\n",
    "    for imp, mp in enumerate(tqdm(mps, desc='processing PPEs - ' + var_ename)):\n",
    "        for idgt, diag_t in enumerate(diag_ts):\n",
    "            it = int(diag_t / dt)\n",
    "            if nc_dict[ic_str][mp][var_ename].shape[0] == nz:\n",
    "                for idgz, diag_z in enumerate(diag_zs):\n",
    "                    iz = int(diag_z / dz) - 1\n",
    "                    ncvars['boss_' + var_ename]['data'][imp, idgz, idgt] = nc_dict[ic_str][mp][var_ename][iz, it]\n",
    "            else:\n",
    "                ncvars['boss_' + var_ename]['data'][imp, idgt] = nc_dict[ic_str][mp][var_ename][it]"
   ]
  },
  {
   "cell_type": "markdown",
   "id": "706d7cf4",
   "metadata": {},
   "source": [
    "## load BIN"
   ]
  },
  {
   "cell_type": "code",
   "execution_count": 6,
   "id": "1cc4a9d9",
   "metadata": {},
   "outputs": [],
   "source": [
    "for isumm in summary_var_idx:\n",
    "    var_ename = lp.indvar_ename_set[isumm]\n",
    "    var_units = lp.indvar_units_set[isumm]\n",
    "    if var_units != '':\n",
    "        var_units = var_units[2:-1]\n",
    "    ncvars['bin_' + var_ename] = {}\n",
    "    ncvars['bin_' + var_ename]['dims'] = ('ncase',)\n",
    "    ncvars['bin_' + var_ename]['units'] = var_units\n",
    "    ncvars['bin_' + var_ename]['data'] = np.zeros((len(var1_strs) * len(var2_strs)))\n",
    "    icase = 0\n",
    "    for var1_str in var1_strs:\n",
    "        for var2_str in var2_strs:\n",
    "            ic_str = var1_str + var2_str\n",
    "            ncvars['bin_' + var_ename]['data'][icase] = nc_dict[ic_str]['BIN_TAU'][var_ename]\n",
    "            icase += 1\n",
    "\n",
    "for isnap in snapshot_var_idx:\n",
    "    var_ename = lp.indvar_ename_set[isnap]\n",
    "    var_units = lp.indvar_units_set[isnap]\n",
    "    if var_units != '':\n",
    "        var_units = var_units[2:-1]\n",
    "    ncvars['bin_' + var_ename] = {}\n",
    "    ic_str = var1_strs[0] + var2_strs[0]\n",
    "    if nc_dict[ic_str]['BIN_TAU'][var_ename].shape[0] == nz:\n",
    "        ncvars['bin_' + var_ename]['dims'] = ('ncase','nz','ntime',)\n",
    "        ncvars['bin_' + var_ename]['data'] = np.zeros((len(var1_strs) * len(var2_strs), len(diag_zs), len(diag_ts)))\n",
    "    else:\n",
    "        ncvars['bin_' + var_ename]['dims'] = ('ncase','ntime',)\n",
    "        ncvars['bin_' + var_ename]['data'] = np.zeros((len(var1_strs) * len(var2_strs), len(diag_ts)))\n",
    "    ncvars['bin_' + var_ename]['units'] = var_units\n",
    "\n",
    "    icase = 0\n",
    "    for var1_str in var1_strs:\n",
    "        for var2_str in var2_strs:\n",
    "            ic_str = var1_str + var2_str\n",
    "            for idgt, diag_t in enumerate(diag_ts):\n",
    "                it = int(diag_t / dt)\n",
    "                if nc_dict[ic_str]['BIN_TAU'][var_ename].shape[0] == nz:\n",
    "                    for idgz, diag_z in enumerate(diag_zs):\n",
    "                        iz = int(diag_z / dz) - 1\n",
    "                        ncvars['bin_' + var_ename]['data'][icase, idgz, idgt] = nc_dict[ic_str]['BIN_TAU'][var_ename][iz, it]\n",
    "                else:\n",
    "                    ncvars['bin_' + var_ename]['data'][icase, idgt] = nc_dict[ic_str]['BIN_TAU'][var_ename][it]\n",
    "            icase += 1\n",
    "\n",
    "\n",
    "ncvars['case_Na'] = {}\n",
    "ncvars['case_Na']['data'] = []\n",
    "ncvars['case_Na']['units'] = '1/cc'\n",
    "ncvars['case_Na']['dims'] = ('ncase',)\n",
    "ncvars['case_w'] = {}\n",
    "ncvars['case_w']['data'] = []\n",
    "ncvars['case_w']['units'] = 'm/s'\n",
    "ncvars['case_w']['dims'] = ('ncase',)\n",
    "for var1_str in var1_strs:\n",
    "    for var2_str in var2_strs:\n",
    "        ncvars['case_Na']['data'].append(float(re.search(r'[+-]?\\d*\\.?\\d+', var1_str).group()))\n",
    "        ncvars['case_w']['data'].append(float(re.search(r'[+-]?\\d*\\.?\\d+', var2_str).group()))"
   ]
  },
  {
   "cell_type": "code",
   "execution_count": 15,
   "id": "246aca6e",
   "metadata": {},
   "outputs": [],
   "source": [
    "global_attrs['thresholds_eff0'] = []\n",
    "var_constraints = []\n",
    "for ivar in summary_var_idx + snapshot_var_idx:\n",
    "    var_constraints.append(lp.indvar_ename_set[ivar])    \n",
    "global_attrs['var_constraints'] = np.array(var_constraints)\n",
    "\n",
    "for isumm in summary_var_idx + snapshot_var_idx:\n",
    "    var_ename = lp.indvar_ename_set[isumm]\n",
    "    ncvars['boss_' + var_ename]['data'][ncvars['boss_' + var_ename]['data'] < 0] = 0.\n",
    "    ncvars['bin_' + var_ename]['data'][ncvars['bin_' + var_ename]['data'] < 0] = 0.\n",
    "    value_greater_0 = ncvars['boss_' + var_ename]['data'][ncvars['boss_' + var_ename]['data'] > 0]\n",
    "    global_attrs['thresholds_eff0'].append(np.nanpercentile(value_greater_0, 10))"
   ]
  },
  {
   "cell_type": "code",
   "execution_count": 16,
   "id": "38a81c87",
   "metadata": {},
   "outputs": [
    {
     "data": {
      "text/plain": [
       "[0.0009198112060650008,\n",
       " 6788507643.723516,\n",
       " 2.893820765810066e-14,\n",
       " 1.741725177486439e-22,\n",
       " 0.006989605719340425,\n",
       " 294982.8814359918,\n",
       " 2.2990520010753964e-19,\n",
       " 9.868453027736005e-33]"
      ]
     },
     "execution_count": 16,
     "metadata": {},
     "output_type": "execute_result"
    }
   ],
   "source": [
    "global_attrs['thresholds_eff0']"
   ]
  },
  {
   "cell_type": "markdown",
   "id": "b2bd654a",
   "metadata": {},
   "source": [
    "# write data into netcdf"
   ]
  },
  {
   "cell_type": "code",
   "execution_count": 17,
   "id": "a559fdd4",
   "metadata": {},
   "outputs": [],
   "source": [
    "nc_file = nc.Dataset(nc_dir + sim_config + '.nc', 'r+', format='NETCDF4')"
   ]
  },
  {
   "cell_type": "code",
   "execution_count": 18,
   "id": "617bc344",
   "metadata": {},
   "outputs": [],
   "source": [
    "# Create dimensions (None for unlimited dimension, e.g., time)\n",
    "for dim_name, dim in dims.items():\n",
    "    if dim_name not in nc_file.dimensions:\n",
    "        nc_file.createDimension(dim_name, dim)\n",
    "\n",
    "# save global attributes\n",
    "for attr_name, attr_value in global_attrs.items():\n",
    "    if isinstance(attr_value, list):\n",
    "        nc_file.setncattr(attr_name, np.array(attr_value))\n",
    "    else:\n",
    "        nc_file.setncattr(attr_name, attr_value)\n",
    "\n",
    "outnc_dict = {}\n",
    "for var_name, var in ncvars.items():\n",
    "    if var_name not in nc_file.variables:\n",
    "        if all(isinstance(item, str) for item in var['data']):\n",
    "            outnc_dict[var_name] = nc_file.createVariable(var_name, str, var['dims'])\n",
    "        else:\n",
    "            outnc_dict[var_name] = nc_file.createVariable(var_name, np.float64, var['dims'])\n",
    "        if 'data' in var:\n",
    "            outnc_dict[var_name][:] = var['data']\n",
    "        outnc_dict[var_name].units = var['units']"
   ]
  },
  {
   "cell_type": "code",
   "execution_count": 19,
   "id": "37fcb290",
   "metadata": {},
   "outputs": [],
   "source": [
    "nc_file.close()"
   ]
  },
  {
   "cell_type": "code",
   "execution_count": null,
   "id": "41d47833",
   "metadata": {},
   "outputs": [],
   "source": []
  }
 ],
 "metadata": {
  "kernelspec": {
   "display_name": ".venv",
   "language": "python",
   "name": "python3"
  },
  "language_info": {
   "codemirror_mode": {
    "name": "ipython",
    "version": 3
   },
   "file_extension": ".py",
   "mimetype": "text/x-python",
   "name": "python",
   "nbconvert_exporter": "python",
   "pygments_lexer": "ipython3",
   "version": "3.10.14"
  }
 },
 "nbformat": 4,
 "nbformat_minor": 5
}
